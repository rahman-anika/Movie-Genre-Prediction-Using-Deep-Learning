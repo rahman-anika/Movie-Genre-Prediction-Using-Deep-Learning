{
  "nbformat": 4,
  "nbformat_minor": 0,
  "metadata": {
    "colab": {
      "name": "Copy of soft_computing_final_sfile.ipynb",
      "provenance": [],
      "collapsed_sections": []
    },
    "kernelspec": {
      "display_name": "Python 3",
      "name": "python3"
    }
  },
  "cells": [
    {
      "cell_type": "code",
      "metadata": {
        "colab": {
          "base_uri": "https://localhost:8080/"
        },
        "id": "T1EnrhcmD6gk",
        "outputId": "1e507213-4e7b-4a1f-9877-298404826121"
      },
      "source": [
        "from google.colab import drive\n",
        "drive.mount('/content/drive')"
      ],
      "execution_count": 5,
      "outputs": [
        {
          "output_type": "stream",
          "text": [
            "Mounted at /content/drive\n"
          ],
          "name": "stdout"
        }
      ]
    },
    {
      "cell_type": "code",
      "metadata": {
        "id": "grdqZmmnEW3_"
      },
      "source": [
        "project_path = '/content/drive/MyDrive/Project/'\n",
        "data_path = '/content/drive/MyDrive/Project/trainingSet.csv'"
      ],
      "execution_count": 6,
      "outputs": []
    },
    {
      "cell_type": "code",
      "metadata": {
        "id": "k0Sq80eCEs_a"
      },
      "source": [
        "import pandas as pd\n",
        "import numpy as np\n",
        "import matplotlib.pyplot as plt\n",
        "from sortedcontainers import SortedList, SortedSet, SortedDict"
      ],
      "execution_count": 7,
      "outputs": []
    },
    {
      "cell_type": "markdown",
      "metadata": {
        "id": "zJxIFWxKIgFK"
      },
      "source": [
        "\n",
        "\n",
        "**1. Reading Dataset**\n",
        "\n"
      ]
    },
    {
      "cell_type": "code",
      "metadata": {
        "id": "f2Y9fxv_IoJx"
      },
      "source": [
        "df = pd.read_csv(data_path)\n",
        "df.drop('Genre2',axis='columns', inplace=True)\n",
        "df.drop('Genre3',axis='columns', inplace=True)"
      ],
      "execution_count": 8,
      "outputs": []
    },
    {
      "cell_type": "markdown",
      "metadata": {
        "id": "QAqaYxYOHCuJ"
      },
      "source": [
        "\n",
        "\n",
        "**2. Dataset Analysis**\n",
        "\n"
      ]
    },
    {
      "cell_type": "code",
      "metadata": {
        "colab": {
          "base_uri": "https://localhost:8080/",
          "height": 402
        },
        "id": "DGC7TQeiJXpz",
        "outputId": "fbb2b593-8f0a-4d0d-f199-9ac45e8eec6f"
      },
      "source": [
        "df"
      ],
      "execution_count": 9,
      "outputs": [
        {
          "output_type": "execute_result",
          "data": {
            "text/html": [
              "<div>\n",
              "<style scoped>\n",
              "    .dataframe tbody tr th:only-of-type {\n",
              "        vertical-align: middle;\n",
              "    }\n",
              "\n",
              "    .dataframe tbody tr th {\n",
              "        vertical-align: top;\n",
              "    }\n",
              "\n",
              "    .dataframe thead th {\n",
              "        text-align: right;\n",
              "    }\n",
              "</style>\n",
              "<table border=\"1\" class=\"dataframe\">\n",
              "  <thead>\n",
              "    <tr style=\"text-align: right;\">\n",
              "      <th></th>\n",
              "      <th>imdbID</th>\n",
              "      <th>Title</th>\n",
              "      <th>Plot</th>\n",
              "      <th>Genre1</th>\n",
              "    </tr>\n",
              "  </thead>\n",
              "  <tbody>\n",
              "    <tr>\n",
              "      <th>0</th>\n",
              "      <td>tt0114709</td>\n",
              "      <td>Toy Story</td>\n",
              "      <td>A little boy named Andy loves to be in his roo...</td>\n",
              "      <td>Animation</td>\n",
              "    </tr>\n",
              "    <tr>\n",
              "      <th>1</th>\n",
              "      <td>tt0113497</td>\n",
              "      <td>Jumanji</td>\n",
              "      <td>After being trapped in a jungle board game for...</td>\n",
              "      <td>Action</td>\n",
              "    </tr>\n",
              "    <tr>\n",
              "      <th>2</th>\n",
              "      <td>tt0113228</td>\n",
              "      <td>Grumpier Old Men</td>\n",
              "      <td>Things don't seem to change much in Wabasha Co...</td>\n",
              "      <td>Comedy</td>\n",
              "    </tr>\n",
              "    <tr>\n",
              "      <th>3</th>\n",
              "      <td>tt0114885</td>\n",
              "      <td>Waiting to Exhale</td>\n",
              "      <td>This story based on the best selling novel by ...</td>\n",
              "      <td>Comedy</td>\n",
              "    </tr>\n",
              "    <tr>\n",
              "      <th>4</th>\n",
              "      <td>tt0113041</td>\n",
              "      <td>Father of the Bride Part II</td>\n",
              "      <td>In this sequel to \"Father of the Bride\", Georg...</td>\n",
              "      <td>Comedy</td>\n",
              "    </tr>\n",
              "    <tr>\n",
              "      <th>...</th>\n",
              "      <td>...</td>\n",
              "      <td>...</td>\n",
              "      <td>...</td>\n",
              "      <td>...</td>\n",
              "    </tr>\n",
              "    <tr>\n",
              "      <th>4451</th>\n",
              "      <td>tt0790770</td>\n",
              "      <td>Miles Ahead</td>\n",
              "      <td>An exploration of the life and music of Miles ...</td>\n",
              "      <td>Biography</td>\n",
              "    </tr>\n",
              "    <tr>\n",
              "      <th>4452</th>\n",
              "      <td>tt0165473</td>\n",
              "      <td>Demons</td>\n",
              "      <td>After being robbed by a geisha, a ronin warrio...</td>\n",
              "      <td>Drama</td>\n",
              "    </tr>\n",
              "    <tr>\n",
              "      <th>4453</th>\n",
              "      <td>tt0155350</td>\n",
              "      <td>The Video Dead</td>\n",
              "      <td>An unlabelled crate from an unknown source is ...</td>\n",
              "      <td>Comedy</td>\n",
              "    </tr>\n",
              "    <tr>\n",
              "      <th>4454</th>\n",
              "      <td>tt0918940</td>\n",
              "      <td>The Legend of Tarzan</td>\n",
              "      <td>John Clayton following his parents' death in A...</td>\n",
              "      <td>Action</td>\n",
              "    </tr>\n",
              "    <tr>\n",
              "      <th>4455</th>\n",
              "      <td>tt0255313</td>\n",
              "      <td>The Last Brickmaker in America</td>\n",
              "      <td>A man must cope with the loss of his wife and ...</td>\n",
              "      <td>Drama</td>\n",
              "    </tr>\n",
              "  </tbody>\n",
              "</table>\n",
              "<p>4456 rows × 4 columns</p>\n",
              "</div>"
            ],
            "text/plain": [
              "         imdbID  ...     Genre1\n",
              "0     tt0114709  ...  Animation\n",
              "1     tt0113497  ...     Action\n",
              "2     tt0113228  ...     Comedy\n",
              "3     tt0114885  ...     Comedy\n",
              "4     tt0113041  ...     Comedy\n",
              "...         ...  ...        ...\n",
              "4451  tt0790770  ...  Biography\n",
              "4452  tt0165473  ...      Drama\n",
              "4453  tt0155350  ...     Comedy\n",
              "4454  tt0918940  ...     Action\n",
              "4455  tt0255313  ...      Drama\n",
              "\n",
              "[4456 rows x 4 columns]"
            ]
          },
          "metadata": {
            "tags": []
          },
          "execution_count": 9
        }
      ]
    },
    {
      "cell_type": "code",
      "metadata": {
        "id": "uC9_MerZEzCI"
      },
      "source": [
        "distinct_genres = SortedSet() #ordered set of distict element\n",
        "for i in range(1, 2):\n",
        "  column = \"Genre\" + str(i)\n",
        "  for x in df[column]:\n",
        "    gnr = str(x)\n",
        "    gnr = gnr.lower()\n",
        "    gnr = gnr.strip()\n",
        "    gnr = gnr.strip(' ')\n",
        "    if (str(gnr) != \"nan\"):\n",
        "      distinct_genres.add(gnr)\n",
        "#print('In this dataset there are', len(distinct_genres), 'distinct genres')\n",
        "all_genres = list(distinct_genres)"
      ],
      "execution_count": 10,
      "outputs": []
    },
    {
      "cell_type": "markdown",
      "metadata": {
        "id": "4__Lf23nKZ4g"
      },
      "source": [
        "**In this dataset there are 19 distinct genres** <br> <br>\n",
        "\n",
        "\n",
        "1.Animation<br> \n",
        "2.Action<br>\n",
        "3.Comedy<br>\n",
        "4.Adventure<br>\n",
        "5.Biography<br>\n",
        "6.Drama<br>\n",
        "7.Crime<br>\n",
        "8.Fantasy<br>\n",
        "9.Mystery<br>\n",
        "10.Romance<br>\n",
        "11.Sci-Fi<br>\n",
        "12.Documentary<br>\n",
        "13.Family<br>\n",
        "14.Horror<br>\n",
        "15.Thriller<br>\n",
        "16.Short<br>\n",
        "17.Western<br>\n",
        "18.War<br>\n",
        "19.Musical<br>\n",
        "\n"
      ]
    },
    {
      "cell_type": "code",
      "metadata": {
        "id": "HY0srhoRRRNm"
      },
      "source": [
        "all_genres_count = {}       # counting every genres\n",
        "for i in range(1, 2):\n",
        "  column = \"Genre\" + str(i)\n",
        "  for x in df[column]:\n",
        "    gnr = str(x)\n",
        "    gnr = gnr.lower()\n",
        "    gnr = gnr.strip()\n",
        "    gnr = gnr.strip(' ')\n",
        "    if (str(gnr) != \"nan\"):\n",
        "      if (all_genres_count.get(gnr) == None):\n",
        "        all_genres_count[gnr] = 1\n",
        "      else :\n",
        "        all_genres_count[gnr] += 1\n",
        "#print('In this dataset there are', len(distinct_genres), 'distinct genres')"
      ],
      "execution_count": 11,
      "outputs": []
    },
    {
      "cell_type": "code",
      "metadata": {
        "id": "9I22ecX6Rry5"
      },
      "source": [
        "plot_column_name = []\n",
        "plot_height = []\n",
        "for name, cnt in all_genres_count.items():\n",
        "  plot_column_name.append(name)\n",
        "  plot_height.append(cnt)"
      ],
      "execution_count": 12,
      "outputs": []
    },
    {
      "cell_type": "code",
      "metadata": {
        "colab": {
          "base_uri": "https://localhost:8080/",
          "height": 574
        },
        "id": "xnrTvoOcSLb8",
        "outputId": "36d65e61-84d7-4e17-e64f-ec7d69944d1b"
      },
      "source": [
        "x = np.arange(len(plot_height))\n",
        "width = .75\n",
        "fig, ax = plt.subplots()\n",
        "fig.set_figheight(8)\n",
        "fig.set_figwidth(22)\n",
        "rects1 = ax.bar(x, plot_height, width, color=(0.0, 0.0, 0.9, 0.6))\n",
        "for i, v in enumerate(plot_height):\n",
        "    plt.text(x[i] - width / 2, v, str(v))\n",
        "plt.xticks(x, plot_column_name, rotation='vertical')\n",
        "plt.legend()"
      ],
      "execution_count": 13,
      "outputs": [
        {
          "output_type": "stream",
          "text": [
            "No handles with labels found to put in legend.\n"
          ],
          "name": "stderr"
        },
        {
          "output_type": "execute_result",
          "data": {
            "text/plain": [
              "<matplotlib.legend.Legend at 0x7f7d71fea910>"
            ]
          },
          "metadata": {
            "tags": []
          },
          "execution_count": 13
        },
        {
          "output_type": "display_data",
          "data": {
            "image/png": "[encoded data removed]",
            "text/plain": [
              "<Figure size 1584x576 with 1 Axes>"
            ]
          },
          "metadata": {
            "tags": [],
            "needs_background": "light"
          }
        }
      ]
    },
    {
      "cell_type": "code",
      "metadata": {
        "id": "hTzoir9AWV0p"
      },
      "source": [
        "from sklearn.feature_extraction.text import CountVectorizer\n",
        "from sklearn.feature_extraction.text import TfidfVectorizer\n",
        "from sklearn.metrics import confusion_matrix\n",
        "from sklearn.metrics import classification_report\n",
        "\n",
        "import os\n",
        "from os import path\n",
        "import shutil\n",
        "import numpy as np\n",
        "import pandas as pd\n",
        "import torch\n",
        "import torch.nn as nn\n",
        "import torch.nn.functional as F\n",
        "import torch.optim as optim\n",
        "from torch.utils.data import Dataset\n",
        "from torch.utils.data.sampler import SubsetRandomSampler\n",
        "from torchvision import datasets, transforms, models\n",
        "import matplotlib\n",
        "import matplotlib.pyplot as plt\n",
        "from PIL import Image\n",
        "import threading\n",
        "import random"
      ],
      "execution_count": 14,
      "outputs": []
    },
    {
      "cell_type": "code",
      "metadata": {
        "id": "PKaU6UZq5RHo"
      },
      "source": [
        "class Custom_Count_Vectorizer:\n",
        "  \"\"\"instance\"\"\"\n",
        "  my_vectorizer = None\n",
        "  word_vector = None\n",
        "  dataset = None\n",
        "\n",
        "  \"\"\"methods\"\"\"\n",
        "  #@ initalize the vocabulary based on the given corpus and make a dataset with given labels\n",
        "  def __init__(self, corpus, corpus_label, vectorizer = 'COUNT-B'):\n",
        "    #@initialize the vectorizer\n",
        "    if (vectorizer == 'COUNT-B'):\n",
        "      self.my_vectorizer = CountVectorizer(stop_words='english', binary=True)\n",
        "      print('Using Binary Count Vectorizer')\n",
        "    elif (vectorizer == 'COUNT'):\n",
        "      self.my_vectorizer = CountVectorizer(stop_words='english')\n",
        "      print('Using Count Vectorizer')\n",
        "    elif (vectorizer == 'TF-IDF'):\n",
        "      self.my_vectorizer = TfidfVectorizer(stop_words='english')\n",
        "      print('Using TF-IDF Vectorizer')\n",
        "    else:\n",
        "      self.my_vectorizer = CountVectorizer(stop_words='english', binary=True)\n",
        "      print('Can not use the specific vectorizer.\\nUsing Binary Count Vectorizer as Default')\n",
        "\n",
        "    self.word_vector = self.my_vectorizer.fit_transform(corpus).toarray()\n",
        "    assert(len(self.word_vector) == len(corpus_label))\n",
        "    self.dataset = []\n",
        "    for i in range(len(self.word_vector)):\n",
        "      self.dataset.append((torch.FloatTensor(self.word_vector[i]) / corpus_label[i][1], corpus_label[i][0]))\n",
        "\n",
        "  #@ returns a word vector for a new text, based on the vocabulary\n",
        "  def get_vector(self, ar):\n",
        "    return self.my_vectorizer.transform([ar]).toarray()[0]\n",
        "  \n",
        "  #@ retruns a word vector for a new text, based on the vocabulary in a tensor form\n",
        "  def get_tensor(self, ar):\n",
        "    return torch.FloatTensor(self.my_vectorizer.transform([ar]).toarray()[0])\n",
        "\n",
        "  #@ returns a dataset with labels, based on the corpus that was given during class initialization\n",
        "  def get_dataset(self, shuffle = False):\n",
        "    if (shuffle):\n",
        "      random.shuffle(self.dataset)\n",
        "    return self.dataset"
      ],
      "execution_count": 15,
      "outputs": []
    },
    {
      "cell_type": "code",
      "metadata": {
        "id": "jXZWSAhHG7lO"
      },
      "source": [
        "label_to_int = {}\n",
        "int_to_label = {}\n",
        "given_label = 0\n",
        "for name in all_genres_count.keys():\n",
        "  label_to_int[name] = given_label\n",
        "  int_to_label[given_label] = name\n",
        "  given_label += 1"
      ],
      "execution_count": 16,
      "outputs": []
    },
    {
      "cell_type": "code",
      "metadata": {
        "id": "wUD6EF2R6OxB"
      },
      "source": [
        "corpus = []\n",
        "corpus_label = []\n",
        "def make_corpus():\n",
        "  for i in range(len(df['Plot'])):\n",
        "    sen = str(df['Plot'][i])\n",
        "    sen = sen.strip()\n",
        "    sen = sen.strip(' ')\n",
        "    for j in range(1, 2):\n",
        "      gg = str('Genre') + str(j)\n",
        "      gnr = str(df[gg][i])\n",
        "      gnr = gnr.lower()\n",
        "      gnr = gnr.strip()\n",
        "      gnr = gnr.strip(' ')\n",
        "      if (gnr != \"nan\"):\n",
        "        corpus.append(sen)\n",
        "        ival = label_to_int[gnr]\n",
        "        assert(ival >= 0 and ival < 22)\n",
        "        corpus_label.append((ival, j * j))\n",
        "make_corpus()"
      ],
      "execution_count": 17,
      "outputs": []
    },
    {
      "cell_type": "markdown",
      "metadata": {
        "id": "2njXJk7e-LVm"
      },
      "source": [
        "**TF-IDF + Deep Neural Network**"
      ]
    },
    {
      "cell_type": "code",
      "metadata": {
        "colab": {
          "base_uri": "https://localhost:8080/"
        },
        "id": "3THLC_MPGpwn",
        "outputId": "ee0d2d8a-162b-43c1-8786-50c550bde880"
      },
      "source": [
        "custom_count_vectorizer = Custom_Count_Vectorizer(corpus=corpus, corpus_label=corpus_label, vectorizer='TF-IDF')\n",
        "dataset = custom_count_vectorizer.get_dataset(shuffle = True)"
      ],
      "execution_count": 34,
      "outputs": [
        {
          "output_type": "stream",
          "text": [
            "Using TF-IDF Vectorizer\n"
          ],
          "name": "stdout"
        }
      ]
    },
    {
      "cell_type": "code",
      "metadata": {
        "colab": {
          "base_uri": "https://localhost:8080/"
        },
        "id": "hw3BjBqoJ_hJ",
        "outputId": "46e9ede7-9f67-4aef-fb1b-2f158eeec3f1"
      },
      "source": [
        "train_cnt = int(80.0 * len(dataset) / 100.0)\n",
        "train_dataset = dataset[ : train_cnt]\n",
        "test_dataset = dataset[train_cnt : ]\n",
        "print('Train size =', len(train_dataset), '\\nTest size =', len(test_dataset))"
      ],
      "execution_count": 35,
      "outputs": [
        {
          "output_type": "stream",
          "text": [
            "Train size = 3564 \n",
            "Test size = 892\n"
          ],
          "name": "stdout"
        }
      ]
    },
    {
      "cell_type": "code",
      "metadata": {
        "id": "_AZknFjiKd9o"
      },
      "source": [
        "# Hyperparameters\n",
        "batch_size =180 \n",
        "num_iters =9000 \n",
        "input_dim = len(dataset[0][0])\n",
        "output_dim = len(all_genres)\n",
        "learning_rate = 0.001\n",
        "\n",
        "# Device\n",
        "device = torch.device(\"cuda:0\" if torch.cuda.is_available() else \"cpu\")"
      ],
      "execution_count": 42,
      "outputs": []
    },
    {
      "cell_type": "code",
      "metadata": {
        "colab": {
          "base_uri": "https://localhost:8080/"
        },
        "id": "no1BsbUZK8kk",
        "outputId": "e2a12835-b563-42fd-ece5-0fbc12eaf62a"
      },
      "source": [
        "num_epochs = num_iters / (len(train_dataset) / batch_size)\n",
        "num_epochs = int(num_epochs)\n",
        "\n",
        "train_loader = torch.utils.data.DataLoader(dataset=train_dataset, \n",
        "                                           batch_size=batch_size, \n",
        "                                           shuffle=True)   # It's better to shuffle the whole training dataset! \n",
        "\n",
        "test_loader = torch.utils.data.DataLoader(dataset=test_dataset, \n",
        "                                          batch_size=batch_size, \n",
        "                                          shuffle=False)  \n",
        "print(num_epochs)"
      ],
      "execution_count": 43,
      "outputs": [
        {
          "output_type": "stream",
          "text": [
            "454\n"
          ],
          "name": "stdout"
        }
      ]
    },
    {
      "cell_type": "code",
      "metadata": {
        "id": "HAq52h6TK_-j"
      },
      "source": [
        "class DeepNeuralNetworkModel(nn.Module):\n",
        "  def __init__(self, input_size, num_classes, num_hidden_1, num_hidden_2, num_hidden_3):\n",
        "    super().__init__()\n",
        "    ### 1st hidden layer: 784 --> 100\n",
        "    self.linear_1 = nn.Linear(input_size, num_hidden_1)\n",
        "    ### Non-linearity in 1st hidden layer\n",
        "    self.relu_1 = nn.ReLU6()\n",
        "\n",
        "    ### 2nd hidden layer: 100 --> 100\n",
        "    self.linear_2 = nn.Linear(num_hidden_1, num_hidden_2)\n",
        "    ### Non-linearity in 2nd hidden layer\n",
        "    self.relu_2 = nn.ReLU6()\n",
        "\n",
        "    self.linear_3 = nn.Linear(num_hidden_2, num_hidden_3)\n",
        "    ### Non-linearity in 2nd hidden layer\n",
        "    self.relu_3 = nn.ReLU6()\n",
        "\n",
        "    ### Output layer: 100 --> 10\n",
        "    self.linear_out = nn.Linear(num_hidden_3, num_classes)\n",
        "\n",
        "  def forward(self, x):\n",
        "    ### 1st hidden layer\n",
        "    out  = self.linear_1(x)\n",
        "    ### Non-linearity in 1st hidden layer\n",
        "    out = self.relu_1(out)\n",
        "    \n",
        "    ### 2nd hidden layer\n",
        "    out  = self.linear_2(out)\n",
        "    ### Non-linearity in 2nd hidden layer\n",
        "    out = self.relu_2(out)\n",
        "    \n",
        "    ### 2nd hidden layer\n",
        "    out  = self.linear_3(out)\n",
        "    ### Non-linearity in 2nd hidden layer\n",
        "    out = self.relu_3(out)\n",
        "\n",
        "    # Linear layer (output)\n",
        "    probas  = self.linear_out(out)\n",
        "    return probas"
      ],
      "execution_count": 44,
      "outputs": []
    },
    {
      "cell_type": "code",
      "metadata": {
        "colab": {
          "base_uri": "https://localhost:8080/"
        },
        "id": "BFYj34bVLCTg",
        "outputId": "cca09417-012f-4654-90dd-a9994d6ba1e9"
      },
      "source": [
        "model = DeepNeuralNetworkModel(input_size = input_dim,\n",
        "                               num_classes = output_dim,\n",
        "                               num_hidden_1 = 550, num_hidden_2 = 250, num_hidden_3 = 80)\n",
        "# To enable GPU\n",
        "model.to(device)"
      ],
      "execution_count": 45,
      "outputs": [
        {
          "output_type": "execute_result",
          "data": {
            "text/plain": [
              "DeepNeuralNetworkModel(\n",
              "  (linear_1): Linear(in_features=25769, out_features=550, bias=True)\n",
              "  (relu_1): ReLU6()\n",
              "  (linear_2): Linear(in_features=550, out_features=250, bias=True)\n",
              "  (relu_2): ReLU6()\n",
              "  (linear_3): Linear(in_features=250, out_features=80, bias=True)\n",
              "  (relu_3): ReLU6()\n",
              "  (linear_out): Linear(in_features=80, out_features=19, bias=True)\n",
              ")"
            ]
          },
          "metadata": {
            "tags": []
          },
          "execution_count": 45
        }
      ]
    },
    {
      "cell_type": "code",
      "metadata": {
        "id": "bPli1yD0LD5R"
      },
      "source": [
        "# INSTANTIATE OPTIMIZER CLASS\n",
        "optimizer = torch.optim.Adam(model.parameters(), lr=learning_rate)\n",
        "criterion = nn.CrossEntropyLoss()"
      ],
      "execution_count": 46,
      "outputs": []
    },
    {
      "cell_type": "code",
      "metadata": {
        "colab": {
          "base_uri": "https://localhost:8080/"
        },
        "id": "z_upBENjLFq2",
        "outputId": "0d1f68c8-105e-4c36-fc4c-f73904aa4810"
      },
      "source": [
        "iteration_loss = []\n",
        "iter = 0\n",
        "for epoch in range(num_epochs):\n",
        "  for i, (plots, labels) in enumerate(train_loader):\n",
        "\n",
        "    plots = plots.view(-1, input_dim).to(device)\n",
        "    labels = labels.to(device)\n",
        "\n",
        "    # Clear gradients w.r.t. parameters\n",
        "    optimizer.zero_grad()\n",
        "\n",
        "    # Forward pass to get output/logits\n",
        "    outputs = model(plots) \n",
        "    \n",
        "    # Calculate Loss: softmax --> cross entropy loss\n",
        "    loss = criterion(outputs, labels)\n",
        "\n",
        "    # Getting gradients w.r.t. parameters\n",
        "    loss.backward()\n",
        "\n",
        "    # Updating parameters\n",
        "    optimizer.step()\n",
        "\n",
        "    iter += 1\n",
        "\n",
        "    if iter % 500 == 0:\n",
        "      # Calculate Accuracy         \n",
        "      correct = 0\n",
        "      total = 0\n",
        "      # Iterate through test dataset\n",
        "      for plots, labels in test_loader:\n",
        "               \n",
        "        plots = plots.view(-1, input_dim).to(device)\n",
        "\n",
        "        # Forward pass only to get logits/output\n",
        "        outputs = model(plots)\n",
        "\n",
        "        # Get predictions from the maximum value\n",
        "        _, predicted = torch.max(outputs, 1)\n",
        "\n",
        "        # Total number of labels\n",
        "        total += labels.size(0)\n",
        "\n",
        "\n",
        "        # Total correct predictions\n",
        "        if torch.cuda.is_available():\n",
        "          correct += (predicted.cpu() == labels.cpu()).sum() \n",
        "          #print('cuda', predicted)\n",
        "        else:\n",
        "          correct += (predicted == labels).sum()\n",
        "          #print('normal', predicted)\n",
        "\n",
        "      accuracy = 100 * correct.item() / total\n",
        "      # Print Loss\n",
        "      iteration_loss.append(loss.item())\n",
        "      print('Iteration: {}. Loss: {}. Accuracy: {}'.format(iter, loss.item(), accuracy))"
      ],
      "execution_count": 47,
      "outputs": [
        {
          "output_type": "stream",
          "text": [
            "Iteration: 500. Loss: 0.00215915497392416. Accuracy: 40.02242152466368\n",
            "Iteration: 1000. Loss: 0.00024781428510323167. Accuracy: 39.573991031390136\n",
            "Iteration: 1500. Loss: 8.431248716078699e-05. Accuracy: 39.91031390134529\n",
            "Iteration: 2000. Loss: 4.4604381400858983e-05. Accuracy: 40.35874439461883\n",
            "Iteration: 2500. Loss: 3.88813678000588e-05. Accuracy: 40.134529147982065\n",
            "Iteration: 3000. Loss: 2.072214920190163e-05. Accuracy: 40.69506726457399\n",
            "Iteration: 3500. Loss: 1.989482007047627e-05. Accuracy: 40.69506726457399\n",
            "Iteration: 4000. Loss: 1.7899455997394398e-05. Accuracy: 40.47085201793722\n",
            "Iteration: 4500. Loss: 8.562782568333205e-06. Accuracy: 40.47085201793722\n",
            "Iteration: 5000. Loss: 9.375416084367316e-06. Accuracy: 40.91928251121076\n",
            "Iteration: 5500. Loss: 4.170618922216818e-06. Accuracy: 41.03139013452915\n",
            "Iteration: 6000. Loss: 3.4835263704735553e-06. Accuracy: 40.91928251121076\n",
            "Iteration: 6500. Loss: 2.534839268264477e-06. Accuracy: 40.80717488789238\n",
            "Iteration: 7000. Loss: 2.5108088266279083e-06. Accuracy: 40.69506726457399\n",
            "Iteration: 7500. Loss: 1.9661076748889172e-06. Accuracy: 40.47085201793722\n",
            "Iteration: 8000. Loss: 1.538949391033384e-06. Accuracy: 40.47085201793722\n",
            "Iteration: 8500. Loss: 1.5190721569524612e-06. Accuracy: 40.47085201793722\n",
            "Iteration: 9000. Loss: 7.914148341114924e-07. Accuracy: 40.47085201793722\n"
          ],
          "name": "stdout"
        }
      ]
    },
    {
      "cell_type": "code",
      "metadata": {
        "id": "PHfCuFnlevXf"
      },
      "source": [
        "#settings \n",
        "save_model = True\n",
        "\n",
        "if save_model is True:\n",
        "    # Saves only parameters\n",
        "    # wights & biases\n",
        "    torch.save(model.state_dict(), project_path + 'TF_IDF_DEEP_NN_model_final.pkl') "
      ],
      "execution_count": 48,
      "outputs": []
    },
    {
      "cell_type": "code",
      "metadata": {
        "colab": {
          "base_uri": "https://localhost:8080/",
          "height": 316
        },
        "id": "4BjCwraMlilT",
        "outputId": "338e5b07-5feb-4aff-eaa2-134cc7744693"
      },
      "source": [
        "print (iteration_loss)\n",
        "plt.plot(iteration_loss)\n",
        "plt.ylabel('Cross Entropy Loss')\n",
        "plt.xlabel('Iteration (in every 500)')\n",
        "plt.show()"
      ],
      "execution_count": 49,
      "outputs": [
        {
          "output_type": "stream",
          "text": [
            "[0.00215915497392416, 0.00024781428510323167, 8.431248716078699e-05, 4.4604381400858983e-05, 3.88813678000588e-05, 2.072214920190163e-05, 1.989482007047627e-05, 1.7899455997394398e-05, 8.562782568333205e-06, 9.375416084367316e-06, 4.170618922216818e-06, 3.4835263704735553e-06, 2.534839268264477e-06, 2.5108088266279083e-06, 1.9661076748889172e-06, 1.538949391033384e-06, 1.5190721569524612e-06, 7.914148341114924e-07]\n"
          ],
          "name": "stdout"
        },
        {
          "output_type": "display_data",
          "data": {
            "image/png": "[encoded data removed]",
            "text/plain": [
              "<Figure size 432x288 with 1 Axes>"
            ]
          },
          "metadata": {
            "tags": [],
            "needs_background": "light"
          }
        }
      ]
    },
    {
      "cell_type": "code",
      "metadata": {
        "id": "EMOX1M0_fd19"
      },
      "source": [
        "def new_prediction(plot):\n",
        "  plot = custom_count_vectorizer.get_tensor(text)\n",
        "  plot = plot.view(-1, input_dim).to(device)\n",
        "  outputs = model(plot)\n",
        "  _, predicted = torch.max(outputs, 1)\n",
        "  return int(predicted)\n",
        "  \n",
        "def new_prediction_by_vector(vector):\n",
        "  plot = vector\n",
        "  plot = plot.view(-1, input_dim).to(device)\n",
        "  outputs = model(plot)\n",
        "  _, predicted = torch.max(outputs, 1)\n",
        "  return int(predicted)"
      ],
      "execution_count": 50,
      "outputs": []
    },
    {
      "cell_type": "code",
      "metadata": {
        "colab": {
          "base_uri": "https://localhost:8080/"
        },
        "id": "5d_YQkQje_pu",
        "outputId": "d7e84329-e963-40de-ba3f-65843dc1f78a"
      },
      "source": [
        "plot = \"John McBut when a bomb goes off in the Bonwit Teller Department Store the police go insane trying to figure out what's going on. Soon, a man named Simon calls and asks for McClane. Simon tells Inspector Walter Cobb that McClane is going to play a game called \\\"Simon Says\\\". He says that McClane is going to do the tasks he assigns him. If not, he'll set off another bomb. With the help of a Harlem electrician, John McClane must race all over New York trying to figure out the frustrating puzzles that the crafty terrorist gives him. But when a bomb goes off in a subway station right by the Federal Reserve things start to get heated.\"\n",
        "prediction=new_prediction(plot)\n",
        "print(prediction,int_to_label[prediction])"
      ],
      "execution_count": 51,
      "outputs": [
        {
          "output_type": "stream",
          "text": [
            "1 action\n"
          ],
          "name": "stdout"
        }
      ]
    },
    {
      "cell_type": "code",
      "metadata": {
        "colab": {
          "base_uri": "https://localhost:8080/"
        },
        "id": "UBq-WNz7LK_M",
        "outputId": "d2d3f9f0-b4ce-42af-b3dc-d529d902b3d9"
      },
      "source": [
        "out_true = []\n",
        "out_pred = []\n",
        "for plot in test_dataset:\n",
        "  pred = new_prediction_by_vector(plot[0])\n",
        "  out_true.append(plot[1])\n",
        "  out_pred.append(pred)\n",
        "\n",
        "cm = confusion_matrix(out_true, out_pred)\n",
        "print(cm)\n",
        "cr = classification_report(out_true, out_pred)\n",
        "print(cr)"
      ],
      "execution_count": 52,
      "outputs": [
        {
          "output_type": "stream",
          "text": [
            "[[  7  23   1   8   0   7   7   0   0   0   0   0   0   0   0   0]\n",
            " [  7 120  10  10   1  14  20   0   0   0   0   0   0   0   0   0]\n",
            " [  2  48 117   4   2  69   8   0   0   1   0   1   0   0   0   0]\n",
            " [  0  16   4   7   1   5   7   0   0   0   0   0   0   0   0   0]\n",
            " [  0   4   5   2   2  26   3   0   0   0   0   1   0   0   0   0]\n",
            " [  0  24  29   1   2  84  17   0   0   0   0   2   0   0   0   0]\n",
            " [  0  19  12   0   0  18  13   0   0   0   0   0   0   0   0   0]\n",
            " [  0   3   0   1   0   2   2   0   0   0   0   0   0   1   0   0]\n",
            " [  0   1   0   0   0   2   0   0   0   0   0   0   0   0   0   0]\n",
            " [  0   0   1   0   0   1   0   0   0   0   0   0   0   0   0   0]\n",
            " [  1   1   0   0   0   1   1   0   0   0   0   0   0   0   0   0]\n",
            " [  0   2   3   1   4  36   5   0   0   2   0   6   0   0   0   0]\n",
            " [  0   1   0   0   0   0   0   0   0   0   0   0   0   0   0   0]\n",
            " [  0   4   2   0   0   4   6   0   0   0   0   0   0   3   0   0]\n",
            " [  0   1   1   0   0   0   1   0   0   0   0   0   0   0   0   0]\n",
            " [  0   0   1   0   0   0   0   0   0   0   0   0   0   0   0   0]]\n",
            "              precision    recall  f1-score   support\n",
            "\n",
            "           0       0.41      0.13      0.20        53\n",
            "           1       0.45      0.66      0.53       182\n",
            "           2       0.63      0.46      0.53       252\n",
            "           3       0.21      0.17      0.19        40\n",
            "           4       0.17      0.05      0.07        43\n",
            "           5       0.31      0.53      0.39       159\n",
            "           6       0.14      0.21      0.17        62\n",
            "           7       0.00      0.00      0.00         9\n",
            "           8       0.00      0.00      0.00         3\n",
            "           9       0.00      0.00      0.00         2\n",
            "          10       0.00      0.00      0.00         4\n",
            "          11       0.60      0.10      0.17        59\n",
            "          12       0.00      0.00      0.00         1\n",
            "          13       0.75      0.16      0.26        19\n",
            "          14       0.00      0.00      0.00         3\n",
            "          18       0.00      0.00      0.00         1\n",
            "\n",
            "    accuracy                           0.40       892\n",
            "   macro avg       0.23      0.15      0.16       892\n",
            "weighted avg       0.43      0.40      0.38       892\n",
            "\n"
          ],
          "name": "stdout"
        },
        {
          "output_type": "stream",
          "text": [
            "/usr/local/lib/python3.7/dist-packages/sklearn/metrics/_classification.py:1272: UndefinedMetricWarning: Precision and F-score are ill-defined and being set to 0.0 in labels with no predicted samples. Use `zero_division` parameter to control this behavior.\n",
            "  _warn_prf(average, modifier, msg_start, len(result))\n"
          ],
          "name": "stderr"
        }
      ]
    },
    {
      "cell_type": "markdown",
      "metadata": {
        "id": "QIyxBZU9bWPt"
      },
      "source": [
        "**TF-IDF + Logistic Regression**"
      ]
    },
    {
      "cell_type": "code",
      "metadata": {
        "colab": {
          "base_uri": "https://localhost:8080/"
        },
        "id": "sXIbmYHWCMVr",
        "outputId": "6cf49053-6c90-4008-f738-69dd86849144"
      },
      "source": [
        "custom_count_vectorizer = Custom_Count_Vectorizer(corpus=corpus, corpus_label=corpus_label, vectorizer='TF-IDF')\n",
        "dataset = custom_count_vectorizer.get_dataset(shuffle=True)"
      ],
      "execution_count": 53,
      "outputs": [
        {
          "output_type": "stream",
          "text": [
            "Using TF-IDF Vectorizer\n"
          ],
          "name": "stdout"
        }
      ]
    },
    {
      "cell_type": "code",
      "metadata": {
        "colab": {
          "base_uri": "https://localhost:8080/"
        },
        "id": "GEeZYznCAjAg",
        "outputId": "435a6da7-4ccb-4ab5-dc65-844def59d2c0"
      },
      "source": [
        "train_cnt = int(80.0 * len(dataset) / 100.0)\n",
        "train_dataset = dataset[ : train_cnt]\n",
        "test_dataset = dataset[train_cnt : ]\n",
        "print('Train size =', len(train_dataset), '\\nTest size =', len(test_dataset))"
      ],
      "execution_count": 54,
      "outputs": [
        {
          "output_type": "stream",
          "text": [
            "Train size = 3564 \n",
            "Test size = 892\n"
          ],
          "name": "stdout"
        }
      ]
    },
    {
      "cell_type": "code",
      "metadata": {
        "id": "3ynZfDfpAm58"
      },
      "source": [
        "# Hyperparameters\n",
        "batch_size = 180\n",
        "num_iters = 9000\n",
        "input_dim = len(dataset[0][0])\n",
        "output_dim = len(all_genres)\n",
        "learning_rate = 0.001\n",
        "\n",
        "# Device\n",
        "device = torch.device(\"cuda:0\" if torch.cuda.is_available() else \"cpu\")"
      ],
      "execution_count": 55,
      "outputs": []
    },
    {
      "cell_type": "code",
      "metadata": {
        "colab": {
          "base_uri": "https://localhost:8080/"
        },
        "id": "v4U1axbEAoiW",
        "outputId": "3c8c18a6-c5b6-4c4a-9687-f4e0fa689792"
      },
      "source": [
        "num_epochs = num_iters / (len(train_dataset) / batch_size)\n",
        "num_epochs = int(num_epochs)\n",
        "\n",
        "train_loader = torch.utils.data.DataLoader(dataset=train_dataset, \n",
        "                                           batch_size=batch_size, \n",
        "                                           shuffle=True)   # It's better to shuffle the whole training dataset! \n",
        "\n",
        "test_loader = torch.utils.data.DataLoader(dataset=test_dataset, \n",
        "                                          batch_size=batch_size, \n",
        "                                          shuffle=False)  \n",
        "print(num_epochs)"
      ],
      "execution_count": 56,
      "outputs": [
        {
          "output_type": "stream",
          "text": [
            "454\n"
          ],
          "name": "stdout"
        }
      ]
    },
    {
      "cell_type": "code",
      "metadata": {
        "id": "uoTmlhotArME"
      },
      "source": [
        "class LogisticRegressionModel(nn.Module):\n",
        "  def __init__(self, input_size, num_classes):\n",
        "    super().__init__()\n",
        "    self.linear = nn.Linear(input_size, num_classes)\n",
        "\n",
        "  def forward(self, x):\n",
        "    logits  = self.linear(x)\n",
        "    probas = F.softmax(logits, dim=1)\n",
        "    return logits, probas"
      ],
      "execution_count": 57,
      "outputs": []
    },
    {
      "cell_type": "code",
      "metadata": {
        "colab": {
          "base_uri": "https://localhost:8080/"
        },
        "id": "Mknu-vYAAswl",
        "outputId": "7acc6581-230c-4967-b670-cd7eab567ee5"
      },
      "source": [
        "'''\n",
        "INSTANTIATE MODEL CLASS\n",
        "'''\n",
        "model = LogisticRegressionModel(input_size=input_dim,\n",
        "                                num_classes=output_dim)\n",
        "# To enable GPU\n",
        "model.to(device)"
      ],
      "execution_count": 58,
      "outputs": [
        {
          "output_type": "execute_result",
          "data": {
            "text/plain": [
              "LogisticRegressionModel(\n",
              "  (linear): Linear(in_features=25769, out_features=19, bias=True)\n",
              ")"
            ]
          },
          "metadata": {
            "tags": []
          },
          "execution_count": 58
        }
      ]
    },
    {
      "cell_type": "code",
      "metadata": {
        "id": "Ve3SMq_rAu3m"
      },
      "source": [
        "# INSTANTIATE OPTIMIZER CLASS\n",
        "optimizer = torch.optim.Adam(model.parameters(), lr=learning_rate)"
      ],
      "execution_count": 59,
      "outputs": []
    },
    {
      "cell_type": "code",
      "metadata": {
        "colab": {
          "base_uri": "https://localhost:8080/"
        },
        "id": "8NYMz4xkAwbz",
        "outputId": "dc9dfc6e-48da-4e40-8c8a-edc929ee913e"
      },
      "source": [
        "'''\n",
        "TRAIN THE MODEL\n",
        "'''\n",
        "iteration_loss = []\n",
        "iter = 0\n",
        "for epoch in range(num_epochs):\n",
        "  for i, (plots, labels) in enumerate(train_loader):\n",
        "\n",
        "    plots = plots.view(-1, input_dim).to(device)\n",
        "    labels = labels.to(device)\n",
        "\n",
        "    # Clear gradients w.r.t. parameters\n",
        "    optimizer.zero_grad()\n",
        "\n",
        "    # Forward pass to get output/logits\n",
        "    logits, probas = model(plots) \n",
        "\n",
        "    # Calculate Loss: PyTorch implementation of CrossEntropyLoss works with logits, not probabilities\n",
        "    loss = F.cross_entropy(logits, labels)\n",
        "\n",
        "    # Getting gradients w.r.t. parameters\n",
        "    loss.backward()\n",
        "\n",
        "    # Updating parameters\n",
        "    optimizer.step()\n",
        "\n",
        "    iter += 1\n",
        "\n",
        "    if iter % 1000 == 0:\n",
        "      # Calculate Accuracy         \n",
        "      correct = 0\n",
        "      total = 0\n",
        "      # Iterate through test dataset\n",
        "      for plots, labels in test_loader:\n",
        "               \n",
        "        plots = plots.view(-1, input_dim).to(device)\n",
        "\n",
        "        # Forward pass only to get logits/output\n",
        "        logits, probas = model(plots)\n",
        "\n",
        "        # Get predictions from the maximum value\n",
        "        _, predicted = torch.max(probas, 1)\n",
        "\n",
        "        # Total number of labels\n",
        "        total += labels.size(0)\n",
        "\n",
        "\n",
        "        # Total correct predictions\n",
        "        if torch.cuda.is_available():\n",
        "          correct += (predicted.cpu() == labels.cpu()).sum() \n",
        "        else:\n",
        "          correct += (predicted == labels).sum()\n",
        "\n",
        "      accuracy = 100 * correct.item() / total\n",
        "\n",
        "      # Print Loss\n",
        "      iteration_loss.append(loss.item())\n",
        "      print('Iteration: {}. Loss: {}. Accuracy: {}'.format(iter, loss.item(), accuracy))\n",
        "print(\"done training\")"
      ],
      "execution_count": 60,
      "outputs": [
        {
          "output_type": "stream",
          "text": [
            "Iteration: 1000. Loss: 0.9626441597938538. Accuracy: 43.60986547085202\n",
            "Iteration: 2000. Loss: 0.4956914484500885. Accuracy: 45.964125560538115\n",
            "Iteration: 3000. Loss: 0.26640230417251587. Accuracy: 46.74887892376682\n",
            "Iteration: 4000. Loss: 0.14403869211673737. Accuracy: 46.63677130044843\n",
            "Iteration: 5000. Loss: 0.08393736928701401. Accuracy: 47.08520179372197\n",
            "Iteration: 6000. Loss: 0.05286024510860443. Accuracy: 47.53363228699551\n",
            "Iteration: 7000. Loss: 0.031830012798309326. Accuracy: 47.19730941704036\n",
            "Iteration: 8000. Loss: 0.023095805197954178. Accuracy: 46.860986547085204\n",
            "Iteration: 9000. Loss: 0.01427452266216278. Accuracy: 47.08520179372197\n",
            "done training\n"
          ],
          "name": "stdout"
        }
      ]
    },
    {
      "cell_type": "code",
      "metadata": {
        "id": "PFFfgJJzvbSt"
      },
      "source": [
        "#settings \n",
        "save_model = True\n",
        "\n",
        "if save_model is True:\n",
        "    # Saves only parameters\n",
        "    # wights & biases\n",
        "    torch.save(model.state_dict(), project_path + 'TF_IDF_logistic_regression_final.pkl') "
      ],
      "execution_count": 61,
      "outputs": []
    },
    {
      "cell_type": "code",
      "metadata": {
        "colab": {
          "base_uri": "https://localhost:8080/",
          "height": 318
        },
        "id": "AHdGyKaco8kx",
        "outputId": "6d3f81fa-f6e1-4a1e-e5b5-d21eca336ffa"
      },
      "source": [
        "print (iteration_loss)\n",
        "plt.plot(iteration_loss)\n",
        "plt.ylabel('Cross Entropy Loss')\n",
        "plt.xlabel('Iteration (in every 500)')\n",
        "plt.show()"
      ],
      "execution_count": 62,
      "outputs": [
        {
          "output_type": "stream",
          "text": [
            "[0.9626441597938538, 0.4956914484500885, 0.26640230417251587, 0.14403869211673737, 0.08393736928701401, 0.05286024510860443, 0.031830012798309326, 0.023095805197954178, 0.01427452266216278]\n"
          ],
          "name": "stdout"
        },
        {
          "output_type": "display_data",
          "data": {
            "image/png": "[encoded data removed]",
            "text/plain": [
              "<Figure size 432x288 with 1 Axes>"
            ]
          },
          "metadata": {
            "tags": [],
            "needs_background": "light"
          }
        }
      ]
    },
    {
      "cell_type": "code",
      "metadata": {
        "id": "BsxDY7WGNEW4"
      },
      "source": [
        "def new_prediction_lg(plot):\n",
        "  plot = custom_count_vectorizer.get_tensor(text)\n",
        "  plots = plot.view(-1, input_dim).to(device)\n",
        "  logits, probas = model(plots)\n",
        "  _, predicted = torch.max(probas, 1)\n",
        "  return int(predicted)\n",
        "  \n",
        "def new_prediction_by_vector_lg(vector):\n",
        "  plot = vector\n",
        "  plot = plot.view(-1, input_dim).to(device)\n",
        "  logits, probas = model(plot)\n",
        "  _, predicted = torch.max(probas, 1)\n",
        "  return int(predicted)"
      ],
      "execution_count": 63,
      "outputs": []
    },
    {
      "cell_type": "code",
      "metadata": {
        "colab": {
          "base_uri": "https://localhost:8080/"
        },
        "id": "Fe_gUHo9w8ka",
        "outputId": "2a52e899-2a08-4202-b03f-2268ebed1ad1"
      },
      "source": [
        "plot = \"John McBut when a bomb goes off in the Bonwit Teller Department Store the police go insane trying to figure out what's going on. Soon, a man named Simon calls and asks for McClane. Simon tells Inspector Walter Cobb that McClane is going to play a game called \\\"Simon Says\\\". He says that McClane is going to do the tasks he assigns him. If not, he'll set off another bomb. With the help of a Harlem electrician, John McClane must race all over New York trying to figure out the frustrating puzzles that the crafty terrorist gives him. But when a bomb goes off in a subway station right by the Federal Reserve things start to get heated.\"\n",
        "prediction=new_prediction_lg(plot)\n",
        "print(prediction,int_to_label[prediction])"
      ],
      "execution_count": 65,
      "outputs": [
        {
          "output_type": "stream",
          "text": [
            "1 action\n"
          ],
          "name": "stdout"
        }
      ]
    },
    {
      "cell_type": "code",
      "metadata": {
        "colab": {
          "base_uri": "https://localhost:8080/"
        },
        "id": "0nvHPQz9ZrTS",
        "outputId": "6f417464-8292-49e6-8f68-22c198d58627"
      },
      "source": [
        "out_true = []\n",
        "out_pred = []\n",
        "for plot in test_dataset:\n",
        "  pred = new_prediction_by_vector_lg(plot[0])\n",
        "  out_true.append(plot[1])\n",
        "  out_pred.append(pred)\n",
        "\n",
        "cm = confusion_matrix(out_true, out_pred)\n",
        "print(cm)\n",
        "cr = classification_report(out_true, out_pred)\n",
        "print(cr)"
      ],
      "execution_count": 66,
      "outputs": [
        {
          "output_type": "stream",
          "text": [
            "[[ 11  14  15   2   0   8   1   0   0   0   0   0   0   0   0   0]\n",
            " [  2 101  32   4   0  10   4   0   0   0   0   0   0   0   0   0]\n",
            " [  0  12 198   0   2  48   1   0   0   0   0   3   0   0   0   0]\n",
            " [  4   9  15   6   0   8   1   0   0   0   0   0   0   0   0   0]\n",
            " [  0   1  16   0   4  18   0   0   0   0   0   1   0   0   0   0]\n",
            " [  1  15  72   0   1  73   2   0   0   0   0   1   0   1   0   0]\n",
            " [  0  14  26   1   0  19   9   0   0   0   0   0   0   0   0   0]\n",
            " [  0   3   1   0   0   1   0   0   0   0   0   0   0   0   0   0]\n",
            " [  0   0   1   0   0   2   0   0   0   0   0   0   0   1   0   0]\n",
            " [  0   1   0   0   0   0   0   0   0   0   0   0   0   0   0   0]\n",
            " [  0   0   1   0   0   0   0   0   0   0   0   0   0   0   0   0]\n",
            " [  1   6  24   1   1  10   0   0   0   0   0  16   0   0   0   0]\n",
            " [  0   0   3   0   0   1   0   0   0   0   0   0   0   0   0   0]\n",
            " [  0   8  10   0   0   8   1   0   0   0   0   1   0   2   0   0]\n",
            " [  0   0   0   0   0   1   0   0   0   0   0   0   0   0   0   0]\n",
            " [  0   0   1   0   0   0   0   0   0   0   0   0   0   0   0   0]]\n",
            "              precision    recall  f1-score   support\n",
            "\n",
            "           0       0.58      0.22      0.31        51\n",
            "           1       0.55      0.66      0.60       153\n",
            "           2       0.48      0.75      0.58       264\n",
            "           3       0.43      0.14      0.21        43\n",
            "           4       0.50      0.10      0.17        40\n",
            "           5       0.35      0.44      0.39       166\n",
            "           6       0.47      0.13      0.20        69\n",
            "           7       0.00      0.00      0.00         5\n",
            "           8       0.00      0.00      0.00         4\n",
            "           9       0.00      0.00      0.00         1\n",
            "          10       0.00      0.00      0.00         1\n",
            "          11       0.73      0.27      0.40        59\n",
            "          12       0.00      0.00      0.00         4\n",
            "          13       0.50      0.07      0.12        30\n",
            "          17       0.00      0.00      0.00         1\n",
            "          18       0.00      0.00      0.00         1\n",
            "\n",
            "    accuracy                           0.47       892\n",
            "   macro avg       0.29      0.17      0.19       892\n",
            "weighted avg       0.48      0.47      0.43       892\n",
            "\n"
          ],
          "name": "stdout"
        },
        {
          "output_type": "stream",
          "text": [
            "/usr/local/lib/python3.7/dist-packages/sklearn/metrics/_classification.py:1272: UndefinedMetricWarning: Precision and F-score are ill-defined and being set to 0.0 in labels with no predicted samples. Use `zero_division` parameter to control this behavior.\n",
            "  _warn_prf(average, modifier, msg_start, len(result))\n"
          ],
          "name": "stderr"
        }
      ]
    },
    {
      "cell_type": "markdown",
      "metadata": {
        "id": "BTczaPvZpnuX"
      },
      "source": [
        "**Binary Count + Deep Neural Netword**"
      ]
    },
    {
      "cell_type": "code",
      "metadata": {
        "colab": {
          "base_uri": "https://localhost:8080/"
        },
        "id": "36DZm1nppqdc",
        "outputId": "56e37a41-3a84-47f0-cbfb-06823e8c41f4"
      },
      "source": [
        "custom_count_vectorizer = Custom_Count_Vectorizer(corpus=corpus, corpus_label=corpus_label, vectorizer='COUNT-B')\n",
        "dataset = custom_count_vectorizer.get_dataset(shuffle = True)"
      ],
      "execution_count": 67,
      "outputs": [
        {
          "output_type": "stream",
          "text": [
            "Using Binary Count Vectorizer\n"
          ],
          "name": "stdout"
        }
      ]
    },
    {
      "cell_type": "code",
      "metadata": {
        "colab": {
          "base_uri": "https://localhost:8080/"
        },
        "id": "32_ZQuzRpwEl",
        "outputId": "ef53071a-88e8-424c-f9e5-da0c0983dd28"
      },
      "source": [
        "train_cnt = int(80.0 * len(dataset) / 100.0)\n",
        "train_dataset = dataset[ : train_cnt]\n",
        "test_dataset = dataset[train_cnt : ]\n",
        "print('Train size =', len(train_dataset), '\\nTest size =', len(test_dataset))"
      ],
      "execution_count": 68,
      "outputs": [
        {
          "output_type": "stream",
          "text": [
            "Train size = 3564 \n",
            "Test size = 892\n"
          ],
          "name": "stdout"
        }
      ]
    },
    {
      "cell_type": "code",
      "metadata": {
        "id": "XbuLDvdkp1n8"
      },
      "source": [
        "# Hyperparameters\n",
        "batch_size = 180\n",
        "num_iters = 9000\n",
        "input_dim = len(dataset[0][0])\n",
        "output_dim = len(all_genres)\n",
        "learning_rate = 0.001\n",
        "\n",
        "# Device\n",
        "device = torch.device(\"cuda:0\" if torch.cuda.is_available() else \"cpu\")"
      ],
      "execution_count": 69,
      "outputs": []
    },
    {
      "cell_type": "code",
      "metadata": {
        "colab": {
          "base_uri": "https://localhost:8080/"
        },
        "id": "gPAb2Wjbp5yc",
        "outputId": "1db5e59c-3114-4313-a1b9-15e173138fb9"
      },
      "source": [
        "num_epochs = num_iters / (len(train_dataset) / batch_size)\n",
        "num_epochs = int(num_epochs)\n",
        "\n",
        "train_loader = torch.utils.data.DataLoader(dataset=train_dataset, \n",
        "                                           batch_size=batch_size, \n",
        "                                           shuffle=True)   # It's better to shuffle the whole training dataset! \n",
        "\n",
        "test_loader = torch.utils.data.DataLoader(dataset=test_dataset, \n",
        "                                          batch_size=batch_size, \n",
        "                                          shuffle=False)  \n",
        "print(num_epochs)"
      ],
      "execution_count": 70,
      "outputs": [
        {
          "output_type": "stream",
          "text": [
            "454\n"
          ],
          "name": "stdout"
        }
      ]
    },
    {
      "cell_type": "code",
      "metadata": {
        "id": "h6FJkjxap9MH"
      },
      "source": [
        "class DeepNeuralNetworkModel(nn.Module):\n",
        "  def __init__(self, input_size, num_classes, num_hidden_1, num_hidden_2, num_hidden_3):\n",
        "    super().__init__()\n",
        "    ### 1st hidden layer: 784 --> 100\n",
        "    self.linear_1 = nn.Linear(input_size, num_hidden_1)\n",
        "    ### Non-linearity in 1st hidden layer\n",
        "    self.relu_1 = nn.ReLU6()\n",
        "\n",
        "    ### 2nd hidden layer: 100 --> 100\n",
        "    self.linear_2 = nn.Linear(num_hidden_1, num_hidden_2)\n",
        "    ### Non-linearity in 2nd hidden layer\n",
        "    self.relu_2 = nn.ReLU6()\n",
        "\n",
        "    self.linear_3 = nn.Linear(num_hidden_2, num_hidden_3)\n",
        "    ### Non-linearity in 2nd hidden layer\n",
        "    self.relu_3 = nn.ReLU6()\n",
        "\n",
        "    ### Output layer: 100 --> 10\n",
        "    self.linear_out = nn.Linear(num_hidden_3, num_classes)\n",
        "\n",
        "  def forward(self, x):\n",
        "    ### 1st hidden layer\n",
        "    out  = self.linear_1(x)\n",
        "    ### Non-linearity in 1st hidden layer\n",
        "    out = self.relu_1(out)\n",
        "    \n",
        "    ### 2nd hidden layer\n",
        "    out  = self.linear_2(out)\n",
        "    ### Non-linearity in 2nd hidden layer\n",
        "    out = self.relu_2(out)\n",
        "    \n",
        "    ### 2nd hidden layer\n",
        "    out  = self.linear_3(out)\n",
        "    ### Non-linearity in 2nd hidden layer\n",
        "    out = self.relu_3(out)\n",
        "\n",
        "    # Linear layer (output)\n",
        "    probas  = self.linear_out(out)\n",
        "    return probas"
      ],
      "execution_count": 71,
      "outputs": []
    },
    {
      "cell_type": "code",
      "metadata": {
        "colab": {
          "base_uri": "https://localhost:8080/"
        },
        "id": "-jb5k18BqAgC",
        "outputId": "6c333b69-7e0a-495b-d9b0-fa4df49d3df3"
      },
      "source": [
        "model = DeepNeuralNetworkModel(input_size = input_dim,\n",
        "                               num_classes = output_dim,\n",
        "                               num_hidden_1 = 550, num_hidden_2 = 250, num_hidden_3 = 80)\n",
        "# To enable GPU\n",
        "model.to(device)"
      ],
      "execution_count": 72,
      "outputs": [
        {
          "output_type": "execute_result",
          "data": {
            "text/plain": [
              "DeepNeuralNetworkModel(\n",
              "  (linear_1): Linear(in_features=25769, out_features=550, bias=True)\n",
              "  (relu_1): ReLU6()\n",
              "  (linear_2): Linear(in_features=550, out_features=250, bias=True)\n",
              "  (relu_2): ReLU6()\n",
              "  (linear_3): Linear(in_features=250, out_features=80, bias=True)\n",
              "  (relu_3): ReLU6()\n",
              "  (linear_out): Linear(in_features=80, out_features=19, bias=True)\n",
              ")"
            ]
          },
          "metadata": {
            "tags": []
          },
          "execution_count": 72
        }
      ]
    },
    {
      "cell_type": "code",
      "metadata": {
        "id": "l58ekLP8qDME"
      },
      "source": [
        "# INSTANTIATE OPTIMIZER CLASS\n",
        "optimizer = torch.optim.Adam(model.parameters(), lr=learning_rate)\n",
        "criterion = nn.CrossEntropyLoss()"
      ],
      "execution_count": 73,
      "outputs": []
    },
    {
      "cell_type": "code",
      "metadata": {
        "colab": {
          "base_uri": "https://localhost:8080/"
        },
        "id": "lF-H1_dfqFm-",
        "outputId": "f99e568e-1c88-4da0-c1e2-dda71af0e3b0"
      },
      "source": [
        "iteration_loss = []\n",
        "iter = 0\n",
        "for epoch in range(num_epochs):\n",
        "  for i, (plots, labels) in enumerate(train_loader):\n",
        "\n",
        "    plots = plots.view(-1, input_dim).to(device)\n",
        "    labels = labels.to(device)\n",
        "\n",
        "    # Clear gradients w.r.t. parameters\n",
        "    optimizer.zero_grad()\n",
        "\n",
        "    # Forward pass to get output/logits\n",
        "    outputs = model(plots) \n",
        "    \n",
        "    # Calculate Loss: softmax --> cross entropy loss\n",
        "    loss = criterion(outputs, labels)\n",
        "\n",
        "    # Getting gradients w.r.t. parameters\n",
        "    loss.backward()\n",
        "\n",
        "    # Updating parameters\n",
        "    optimizer.step()\n",
        "\n",
        "    iter += 1\n",
        "\n",
        "    if iter % 500 == 0:\n",
        "      # Calculate Accuracy         \n",
        "      correct = 0\n",
        "      total = 0\n",
        "      # Iterate through test dataset\n",
        "      for plots, labels in test_loader:\n",
        "               \n",
        "        plots = plots.view(-1, input_dim).to(device)\n",
        "\n",
        "        # Forward pass only to get logits/output\n",
        "        outputs = model(plots)\n",
        "\n",
        "        # Get predictions from the maximum value\n",
        "        _, predicted = torch.max(outputs, 1)\n",
        "\n",
        "        # Total number of labels\n",
        "        total += labels.size(0)\n",
        "\n",
        "\n",
        "        # Total correct predictions\n",
        "        if torch.cuda.is_available():\n",
        "          correct += (predicted.cpu() == labels.cpu()).sum() \n",
        "          #print('cuda', predicted)\n",
        "        else:\n",
        "          correct += (predicted == labels).sum()\n",
        "          #print('normal', predicted)\n",
        "\n",
        "      accuracy = 100 * correct.item() / total\n",
        "      # Print Loss\n",
        "      iteration_loss.append(loss.item())\n",
        "      print('Iteration: {}. Loss: {}. Accuracy: {}'.format(iter, loss.item(), accuracy))"
      ],
      "execution_count": 74,
      "outputs": [
        {
          "output_type": "stream",
          "text": [
            "Iteration: 500. Loss: 0.00021700050274375826. Accuracy: 45.403587443946186\n",
            "Iteration: 1000. Loss: 6.150873377919197e-05. Accuracy: 45.2914798206278\n",
            "Iteration: 1500. Loss: 2.5965164240915328e-05. Accuracy: 45.62780269058296\n",
            "Iteration: 2000. Loss: 1.4611642654926982e-05. Accuracy: 45.62780269058296\n",
            "Iteration: 2500. Loss: 8.48606214276515e-06. Accuracy: 45.51569506726457\n",
            "Iteration: 3000. Loss: 6.249318175832741e-06. Accuracy: 45.403587443946186\n",
            "Iteration: 3500. Loss: 4.385868123790715e-06. Accuracy: 45.17937219730942\n",
            "Iteration: 4000. Loss: 3.0919723030820023e-06. Accuracy: 45.403587443946186\n",
            "Iteration: 4500. Loss: 2.5381534669577377e-06. Accuracy: 45.403587443946186\n",
            "Iteration: 5000. Loss: 2.624243052196107e-06. Accuracy: 45.2914798206278\n",
            "Iteration: 5500. Loss: 1.8253781490784604e-06. Accuracy: 45.17937219730942\n",
            "Iteration: 6000. Loss: 1.4511969084196608e-06. Accuracy: 45.17937219730942\n",
            "Iteration: 6500. Loss: 1.2732159575534752e-06. Accuracy: 45.06726457399103\n",
            "Iteration: 7000. Loss: 7.624405498063425e-07. Accuracy: 45.2914798206278\n",
            "Iteration: 7500. Loss: 5.852830327057745e-07. Accuracy: 45.17937219730942\n",
            "Iteration: 8000. Loss: 5.480304139382497e-07. Accuracy: 45.2914798206278\n",
            "Iteration: 8500. Loss: 4.5945176907480345e-07. Accuracy: 45.51569506726457\n",
            "Iteration: 9000. Loss: 2.6904842798103346e-07. Accuracy: 45.62780269058296\n"
          ],
          "name": "stdout"
        }
      ]
    },
    {
      "cell_type": "code",
      "metadata": {
        "id": "9NFGjxDSwMFt"
      },
      "source": [
        "#settings \n",
        "save_model = True\n",
        "\n",
        "if save_model is True:\n",
        "    # Saves only parameters\n",
        "    # wights & biases\n",
        "    torch.save(model.state_dict(), project_path + 'binary_count_DEEP_NN_model_final.pkl') "
      ],
      "execution_count": 75,
      "outputs": []
    },
    {
      "cell_type": "code",
      "metadata": {
        "colab": {
          "base_uri": "https://localhost:8080/",
          "height": 316
        },
        "id": "VOVFoK7jqJbi",
        "outputId": "491181fd-9c23-4379-ff3f-41531e2a05a4"
      },
      "source": [
        "print (iteration_loss)\n",
        "plt.plot(iteration_loss)\n",
        "plt.ylabel('Cross Entropy Loss')\n",
        "plt.xlabel('Iteration (in every 500)')\n",
        "plt.show()"
      ],
      "execution_count": 76,
      "outputs": [
        {
          "output_type": "stream",
          "text": [
            "[0.00021700050274375826, 6.150873377919197e-05, 2.5965164240915328e-05, 1.4611642654926982e-05, 8.48606214276515e-06, 6.249318175832741e-06, 4.385868123790715e-06, 3.0919723030820023e-06, 2.5381534669577377e-06, 2.624243052196107e-06, 1.8253781490784604e-06, 1.4511969084196608e-06, 1.2732159575534752e-06, 7.624405498063425e-07, 5.852830327057745e-07, 5.480304139382497e-07, 4.5945176907480345e-07, 2.6904842798103346e-07]\n"
          ],
          "name": "stdout"
        },
        {
          "output_type": "display_data",
          "data": {
            "image/png": "[encoded data removed]",
            "text/plain": [
              "<Figure size 432x288 with 1 Axes>"
            ]
          },
          "metadata": {
            "tags": [],
            "needs_background": "light"
          }
        }
      ]
    },
    {
      "cell_type": "code",
      "metadata": {
        "id": "7XLicvDhqNb6"
      },
      "source": [
        "def new_prediction(plot):\n",
        "  plot = custom_count_vectorizer.get_tensor(text)\n",
        "  plot = plot.view(-1, input_dim).to(device)\n",
        "  outputs = model(plot)\n",
        "  _, predicted = torch.max(outputs, 1)\n",
        "  return int(predicted)\n",
        "  \n",
        "def new_prediction_by_vector(vector):\n",
        "  plot = vector\n",
        "  plot = plot.view(-1, input_dim).to(device)\n",
        "  outputs = model(plot)\n",
        "  _, predicted = torch.max(outputs, 1)\n",
        "  return int(predicted)"
      ],
      "execution_count": 77,
      "outputs": []
    },
    {
      "cell_type": "code",
      "metadata": {
        "colab": {
          "base_uri": "https://localhost:8080/"
        },
        "id": "1jQ2Yflow_w1",
        "outputId": "c49bf708-4f07-4c4d-b867-d015e411ebfa"
      },
      "source": [
        "plot = \"John McBut when a bomb goes off in the Bonwit Teller Department Store the police go insane trying to figure out what's going on. Soon, a man named Simon calls and asks for McClane. Simon tells Inspector Walter Cobb that McClane is going to play a game called \\\"Simon Says\\\". He says that McClane is going to do the tasks he assigns him. If not, he'll set off another bomb. With the help of a Harlem electrician, John McClane must race all over New York trying to figure out the frustrating puzzles that the crafty terrorist gives him. But when a bomb goes off in a subway station right by the Federal Reserve things start to get heated.\"\n",
        "prediction=new_prediction(plot)\n",
        "print(prediction,int_to_label[prediction])"
      ],
      "execution_count": 78,
      "outputs": [
        {
          "output_type": "stream",
          "text": [
            "1 action\n"
          ],
          "name": "stdout"
        }
      ]
    },
    {
      "cell_type": "code",
      "metadata": {
        "colab": {
          "base_uri": "https://localhost:8080/"
        },
        "id": "eYuDW7A0qUeJ",
        "outputId": "269a5923-4a93-4308-9536-0375602e42c5"
      },
      "source": [
        "out_true = []\n",
        "out_pred = []\n",
        "for plot in test_dataset:\n",
        "  pred = new_prediction_by_vector(plot[0])\n",
        "  out_true.append(plot[1])\n",
        "  out_pred.append(pred)\n",
        "\n",
        "cm = confusion_matrix(out_true, out_pred)\n",
        "print(cm)\n",
        "cr = classification_report(out_true, out_pred)\n",
        "print(cr)"
      ],
      "execution_count": 79,
      "outputs": [
        {
          "output_type": "stream",
          "text": [
            "[[ 11   8  12   4   0   5   0   0   0   0   0   0   0   1   0   0   0]\n",
            " [ 10  87  13   3   1  19  14   0   0   0   0   2   0   3   1   0   0]\n",
            " [  7  10 175   1   3  46   6   0   0   0   0   3   0   1   0   0   0]\n",
            " [  8   8  22   1   0  10   0   0   1   0   0   0   0   1   0   0   0]\n",
            " [  0   1  10   1   6  16   2   0   1   0   0   1   0   0   0   0   0]\n",
            " [  2  13  64   1   5  91   5   0   0   0   0   0   0   2   0   0   0]\n",
            " [  0  13  19   0   0  18  15   0   0   0   0   0   1   2   0   0   0]\n",
            " [  0   2   0   0   0   1   0   1   0   0   0   0   0   0   0   0   0]\n",
            " [  0   0   2   0   0   0   0   0   0   0   0   0   0   1   0   0   0]\n",
            " [  0   1   4   0   0   3   0   0   0   0   0   0   0   0   0   0   0]\n",
            " [  0   1   0   0   0   0   0   0   0   0   0   0   0   0   0   0   0]\n",
            " [  3   6   7   0   6  13   0   0   0   0   0  17   0   0   0   0   0]\n",
            " [  1   0   3   0   0   0   0   0   0   0   0   0   0   0   0   0   0]\n",
            " [  1   7  11   0   0   6   3   0   0   0   0   0   0   2   0   0   0]\n",
            " [  0   1   0   0   0   1   0   0   0   0   0   0   0   0   0   0   0]\n",
            " [  0   0   1   0   0   0   0   0   0   0   0   0   0   0   0   0   0]\n",
            " [  0   0   0   0   0   1   0   0   0   0   0   0   0   0   0   0   0]]\n",
            "              precision    recall  f1-score   support\n",
            "\n",
            "           0       0.26      0.27      0.26        41\n",
            "           1       0.55      0.57      0.56       153\n",
            "           2       0.51      0.69      0.59       252\n",
            "           3       0.09      0.02      0.03        51\n",
            "           4       0.29      0.16      0.20        38\n",
            "           5       0.40      0.50      0.44       183\n",
            "           6       0.33      0.22      0.27        68\n",
            "           7       1.00      0.25      0.40         4\n",
            "           8       0.00      0.00      0.00         3\n",
            "           9       0.00      0.00      0.00         8\n",
            "          10       0.00      0.00      0.00         1\n",
            "          11       0.74      0.33      0.45        52\n",
            "          12       0.00      0.00      0.00         4\n",
            "          13       0.15      0.07      0.09        30\n",
            "          14       0.00      0.00      0.00         2\n",
            "          15       0.00      0.00      0.00         1\n",
            "          17       0.00      0.00      0.00         1\n",
            "\n",
            "    accuracy                           0.46       892\n",
            "   macro avg       0.25      0.18      0.19       892\n",
            "weighted avg       0.43      0.46      0.43       892\n",
            "\n"
          ],
          "name": "stdout"
        },
        {
          "output_type": "stream",
          "text": [
            "/usr/local/lib/python3.7/dist-packages/sklearn/metrics/_classification.py:1272: UndefinedMetricWarning: Precision and F-score are ill-defined and being set to 0.0 in labels with no predicted samples. Use `zero_division` parameter to control this behavior.\n",
            "  _warn_prf(average, modifier, msg_start, len(result))\n"
          ],
          "name": "stderr"
        }
      ]
    },
    {
      "cell_type": "markdown",
      "metadata": {
        "id": "oxLbnguFrKc9"
      },
      "source": [
        "**Binary Count + Logistic Regression**"
      ]
    },
    {
      "cell_type": "code",
      "metadata": {
        "colab": {
          "base_uri": "https://localhost:8080/"
        },
        "id": "EFIlZ4CnrNm6",
        "outputId": "f48b2a4c-f540-4a65-b0b3-5e63ab76984c"
      },
      "source": [
        "custom_count_vectorizer = Custom_Count_Vectorizer(corpus=corpus, corpus_label=corpus_label, vectorizer='COUNT-B')\n",
        "dataset = custom_count_vectorizer.get_dataset(shuffle=True)"
      ],
      "execution_count": 80,
      "outputs": [
        {
          "output_type": "stream",
          "text": [
            "Using Binary Count Vectorizer\n"
          ],
          "name": "stdout"
        }
      ]
    },
    {
      "cell_type": "code",
      "metadata": {
        "colab": {
          "base_uri": "https://localhost:8080/"
        },
        "id": "DPh9dtFrt8Pi",
        "outputId": "86127ae3-91f7-4bdd-8872-40e31d3a60cd"
      },
      "source": [
        "train_cnt = int(80.0 * len(dataset) / 100.0)\n",
        "train_dataset = dataset[ : train_cnt]\n",
        "test_dataset = dataset[train_cnt : ]\n",
        "print('Train size =', len(train_dataset), '\\nTest size =', len(test_dataset))"
      ],
      "execution_count": 81,
      "outputs": [
        {
          "output_type": "stream",
          "text": [
            "Train size = 3564 \n",
            "Test size = 892\n"
          ],
          "name": "stdout"
        }
      ]
    },
    {
      "cell_type": "code",
      "metadata": {
        "id": "E8f2yxryuC0Q"
      },
      "source": [
        "# Hyperparameters\n",
        "batch_size = 220\n",
        "num_iters = 6000\n",
        "input_dim = len(dataset[0][0])\n",
        "output_dim = len(all_genres)\n",
        "learning_rate = 0.001\n",
        "\n",
        "# Device\n",
        "device = torch.device(\"cuda:0\" if torch.cuda.is_available() else \"cpu\")"
      ],
      "execution_count": 82,
      "outputs": []
    },
    {
      "cell_type": "code",
      "metadata": {
        "colab": {
          "base_uri": "https://localhost:8080/"
        },
        "id": "8AKIl9_YuGOr",
        "outputId": "cb74a2bf-8997-4e98-c8f2-e3efdf434893"
      },
      "source": [
        "num_epochs = num_iters / (len(train_dataset) / batch_size)\n",
        "num_epochs = int(num_epochs)\n",
        "\n",
        "train_loader = torch.utils.data.DataLoader(dataset=train_dataset, \n",
        "                                           batch_size=batch_size, \n",
        "                                           shuffle=True)   # It's better to shuffle the whole training dataset! \n",
        "\n",
        "test_loader = torch.utils.data.DataLoader(dataset=test_dataset, \n",
        "                                          batch_size=batch_size, \n",
        "                                          shuffle=False)  \n",
        "print(num_epochs)"
      ],
      "execution_count": 83,
      "outputs": [
        {
          "output_type": "stream",
          "text": [
            "370\n"
          ],
          "name": "stdout"
        }
      ]
    },
    {
      "cell_type": "code",
      "metadata": {
        "id": "6JLXJSqcuL70"
      },
      "source": [
        "class LogisticRegressionModel(nn.Module):\n",
        "  def __init__(self, input_size, num_classes):\n",
        "    super().__init__()\n",
        "    self.linear = nn.Linear(input_size, num_classes)\n",
        "\n",
        "  def forward(self, x):\n",
        "    logits  = self.linear(x)\n",
        "    probas = F.softmax(logits, dim=1)\n",
        "    return logits, probas"
      ],
      "execution_count": 84,
      "outputs": []
    },
    {
      "cell_type": "code",
      "metadata": {
        "colab": {
          "base_uri": "https://localhost:8080/"
        },
        "id": "9qs7gekmuQEU",
        "outputId": "f99dc51e-be4e-4b05-b5b7-3ed40476a34a"
      },
      "source": [
        "'''\n",
        "INSTANTIATE MODEL CLASS\n",
        "'''\n",
        "model = LogisticRegressionModel(input_size=input_dim,\n",
        "                                num_classes=output_dim)\n",
        "# To enable GPU\n",
        "model.to(device)"
      ],
      "execution_count": 85,
      "outputs": [
        {
          "output_type": "execute_result",
          "data": {
            "text/plain": [
              "LogisticRegressionModel(\n",
              "  (linear): Linear(in_features=25769, out_features=19, bias=True)\n",
              ")"
            ]
          },
          "metadata": {
            "tags": []
          },
          "execution_count": 85
        }
      ]
    },
    {
      "cell_type": "code",
      "metadata": {
        "id": "t_cTNlIPuVOl"
      },
      "source": [
        "# INSTANTIATE OPTIMIZER CLASS\n",
        "optimizer = torch.optim.Adamax(model.parameters(), lr=learning_rate)"
      ],
      "execution_count": 86,
      "outputs": []
    },
    {
      "cell_type": "code",
      "metadata": {
        "colab": {
          "base_uri": "https://localhost:8080/"
        },
        "id": "0sQSqv_GuZNU",
        "outputId": "628f889b-dae0-4aee-ee84-f878919f3a58"
      },
      "source": [
        "'''\n",
        "TRAIN THE MODEL\n",
        "'''\n",
        "iteration_loss = []\n",
        "iter = 0\n",
        "for epoch in range(num_epochs):\n",
        "  for i, (plots, labels) in enumerate(train_loader):\n",
        "\n",
        "    plots = plots.view(-1, input_dim).to(device)\n",
        "    labels = labels.to(device)\n",
        "\n",
        "    # Clear gradients w.r.t. parameters\n",
        "    optimizer.zero_grad()\n",
        "\n",
        "    # Forward pass to get output/logits\n",
        "    logits, probas = model(plots) \n",
        "\n",
        "    # Calculate Loss: PyTorch implementation of CrossEntropyLoss works with logits, not probabilities\n",
        "    loss = F.cross_entropy(logits, labels)\n",
        "\n",
        "    # Getting gradients w.r.t. parameters\n",
        "    loss.backward()\n",
        "\n",
        "    # Updating parameters\n",
        "    optimizer.step()\n",
        "\n",
        "    iter += 1\n",
        "\n",
        "    if iter % 1000 == 0:\n",
        "      # Calculate Accuracy         \n",
        "      correct = 0\n",
        "      total = 0\n",
        "      # Iterate through test dataset\n",
        "      for plots, labels in test_loader:\n",
        "               \n",
        "        plots = plots.view(-1, input_dim).to(device)\n",
        "\n",
        "        # Forward pass only to get logits/output\n",
        "        logits, probas = model(plots)\n",
        "\n",
        "        # Get predictions from the maximum value\n",
        "        _, predicted = torch.max(probas, 1)\n",
        "\n",
        "        # Total number of labels\n",
        "        total += labels.size(0)\n",
        "\n",
        "\n",
        "        # Total correct predictions\n",
        "        if torch.cuda.is_available():\n",
        "          correct += (predicted.cpu() == labels.cpu()).sum() \n",
        "        else:\n",
        "          correct += (predicted == labels).sum()\n",
        "\n",
        "      accuracy = 100 * correct.item() / total\n",
        "\n",
        "      # Print Loss\n",
        "      iteration_loss.append(loss.item())\n",
        "      print('Iteration: {}. Loss: {}. Accuracy: {}'.format(iter, loss.item(), accuracy))\n",
        "print(\"done training\")"
      ],
      "execution_count": 87,
      "outputs": [
        {
          "output_type": "stream",
          "text": [
            "Iteration: 1000. Loss: 0.786159098148346. Accuracy: 46.0762331838565\n",
            "Iteration: 2000. Loss: 0.48318541049957275. Accuracy: 47.6457399103139\n",
            "Iteration: 3000. Loss: 0.2709837555885315. Accuracy: 47.98206278026906\n",
            "Iteration: 4000. Loss: 0.1454479843378067. Accuracy: 47.6457399103139\n",
            "Iteration: 5000. Loss: 0.11276122182607651. Accuracy: 47.869955156950674\n",
            "Iteration: 6000. Loss: 0.07562022656202316. Accuracy: 47.53363228699551\n",
            "done training\n"
          ],
          "name": "stdout"
        }
      ]
    },
    {
      "cell_type": "code",
      "metadata": {
        "id": "kCAb-OTtwQuC"
      },
      "source": [
        "#settings \n",
        "save_model = True\n",
        "\n",
        "if save_model is True:\n",
        "    # Saves only parameters\n",
        "    # wights & biases\n",
        "    torch.save(model.state_dict(), project_path + 'binary_count_logistic_final.pkl') "
      ],
      "execution_count": 88,
      "outputs": []
    },
    {
      "cell_type": "code",
      "metadata": {
        "colab": {
          "base_uri": "https://localhost:8080/",
          "height": 296
        },
        "id": "CJJm9vy_uijf",
        "outputId": "e5c2e042-cc3b-4210-b04b-e40b785fafd4"
      },
      "source": [
        "print (iteration_loss)\n",
        "plt.plot(iteration_loss)\n",
        "plt.ylabel('Cross Entropy Loss')\n",
        "plt.xlabel('Iteration (in every 500)')\n",
        "plt.show()"
      ],
      "execution_count": 89,
      "outputs": [
        {
          "output_type": "stream",
          "text": [
            "[0.786159098148346, 0.48318541049957275, 0.2709837555885315, 0.1454479843378067, 0.11276122182607651, 0.07562022656202316]\n"
          ],
          "name": "stdout"
        },
        {
          "output_type": "display_data",
          "data": {
            "image/png": "[encoded data removed]",
            "text/plain": [
              "<Figure size 432x288 with 1 Axes>"
            ]
          },
          "metadata": {
            "tags": [],
            "needs_background": "light"
          }
        }
      ]
    },
    {
      "cell_type": "code",
      "metadata": {
        "id": "7hRK_q_qudXj"
      },
      "source": [
        "def new_prediction_lg(plot):\n",
        "  plot = custom_count_vectorizer.get_tensor(text)\n",
        "  plots = plot.view(-1, input_dim).to(device)\n",
        "  logits, probas = model(plots)\n",
        "  _, predicted = torch.max(probas, 1)\n",
        "  return int(predicted)\n",
        "  \n",
        "def new_prediction_by_vector_lg(vector):\n",
        "  plot = vector\n",
        "  plot = plot.view(-1, input_dim).to(device)\n",
        "  logits, probas = model(plot)\n",
        "  _, predicted = torch.max(probas, 1)\n",
        "  return int(predicted)"
      ],
      "execution_count": 90,
      "outputs": []
    },
    {
      "cell_type": "code",
      "metadata": {
        "colab": {
          "base_uri": "https://localhost:8080/"
        },
        "id": "mp5Xah1TxCgX",
        "outputId": "42a4f6b3-6186-4de2-e05f-7424a4df2c71"
      },
      "source": [
        "plot = \"John McBut when a bomb goes off in the Bonwit Teller Department Store the police go insane trying to figure out what's going on. Soon, a man named Simon calls and asks for McClane. Simon tells Inspector Walter Cobb that McClane is going to play a game called \\\"Simon Says\\\". He says that McClane is going to do the tasks he assigns him. If not, he'll set off another bomb. With the help of a Harlem electrician, John McClane must race all over New York trying to figure out the frustrating puzzles that the crafty terrorist gives him. But when a bomb goes off in a subway station right by the Federal Reserve things start to get heated.\"\n",
        "prediction=new_prediction_lg(plot)\n",
        "print(prediction,int_to_label[prediction])"
      ],
      "execution_count": 91,
      "outputs": [
        {
          "output_type": "stream",
          "text": [
            "6 crime\n"
          ],
          "name": "stdout"
        }
      ]
    },
    {
      "cell_type": "code",
      "metadata": {
        "colab": {
          "base_uri": "https://localhost:8080/"
        },
        "id": "nV6DT2YDunfW",
        "outputId": "b4516864-5c3a-4e2c-a0bb-7dfec197685a"
      },
      "source": [
        "out_true = []\n",
        "out_pred = []\n",
        "for plot in test_dataset:\n",
        "  pred = new_prediction_by_vector_lg(plot[0])\n",
        "  out_true.append(plot[1])\n",
        "  out_pred.append(pred)\n",
        "\n",
        "cm = confusion_matrix(out_true, out_pred)\n",
        "print(cm)\n",
        "cr = classification_report(out_true, out_pred)\n",
        "print(cr)"
      ],
      "execution_count": 92,
      "outputs": [
        {
          "output_type": "stream",
          "text": [
            "[[  9  15  20   2   0  10   0   0   0   0   0   0   0   0   0   0]\n",
            " [  1  97  27   2   1  12   8   0   0   0   0   0   0   0   0   0]\n",
            " [  0   8 210   0   0  51   2   0   0   0   0   3   0   0   0   0]\n",
            " [  1  10  24   2   1   8   1   0   0   0   0   0   0   0   0   0]\n",
            " [  0   1  11   0   2  18   1   0   0   0   0   0   0   0   0   0]\n",
            " [  0  14  75   0   0  73   3   0   0   0   0   1   0   0   0   0]\n",
            " [  0  18  23   0   0  21  12   0   0   0   0   0   0   0   0   0]\n",
            " [  0   3   4   0   0   1   0   0   0   0   0   0   0   0   0   0]\n",
            " [  0   0   1   0   0   0   0   0   0   0   0   0   0   0   0   0]\n",
            " [  0   1   4   0   0   2   0   0   0   0   0   0   0   0   0   0]\n",
            " [  1   3   2   0   0   0   0   0   0   0   0   0   0   0   0   0]\n",
            " [  0   4  20   0   0   7   1   0   0   0   0  12   0   0   0   0]\n",
            " [  0   1   1   0   0   1   0   0   0   0   0   0   0   0   0   0]\n",
            " [  1   2   4   0   0   7   1   0   0   0   0   0   0   7   0   0]\n",
            " [  0   0   1   0   0   0   0   0   0   0   0   0   0   0   0   0]\n",
            " [  0   1   1   0   0   0   0   0   0   0   0   0   0   0   0   0]]\n",
            "              precision    recall  f1-score   support\n",
            "\n",
            "           0       0.69      0.16      0.26        56\n",
            "           1       0.54      0.66      0.60       148\n",
            "           2       0.49      0.77      0.60       274\n",
            "           3       0.33      0.04      0.08        47\n",
            "           4       0.50      0.06      0.11        33\n",
            "           5       0.35      0.44      0.39       166\n",
            "           6       0.41      0.16      0.23        74\n",
            "           7       0.00      0.00      0.00         8\n",
            "           8       0.00      0.00      0.00         1\n",
            "           9       0.00      0.00      0.00         7\n",
            "          10       0.00      0.00      0.00         6\n",
            "          11       0.75      0.27      0.40        44\n",
            "          12       0.00      0.00      0.00         3\n",
            "          13       1.00      0.32      0.48        22\n",
            "          14       0.00      0.00      0.00         1\n",
            "          15       0.00      0.00      0.00         2\n",
            "\n",
            "    accuracy                           0.48       892\n",
            "   macro avg       0.32      0.18      0.20       892\n",
            "weighted avg       0.48      0.48      0.43       892\n",
            "\n"
          ],
          "name": "stdout"
        },
        {
          "output_type": "stream",
          "text": [
            "/usr/local/lib/python3.7/dist-packages/sklearn/metrics/_classification.py:1272: UndefinedMetricWarning: Precision and F-score are ill-defined and being set to 0.0 in labels with no predicted samples. Use `zero_division` parameter to control this behavior.\n",
            "  _warn_prf(average, modifier, msg_start, len(result))\n"
          ],
          "name": "stderr"
        }
      ]
    },
    {
      "cell_type": "markdown",
      "metadata": {
        "id": "lamOf1B_usSC"
      },
      "source": [
        "**Count + Deep Neural Network**"
      ]
    },
    {
      "cell_type": "code",
      "metadata": {
        "colab": {
          "base_uri": "https://localhost:8080/"
        },
        "id": "ASmO45OhuwDr",
        "outputId": "e87582c6-dd0e-4aab-c913-64c15f294659"
      },
      "source": [
        "custom_count_vectorizer = Custom_Count_Vectorizer(corpus=corpus, corpus_label=corpus_label, vectorizer='COUNT')\n",
        "dataset = custom_count_vectorizer.get_dataset(shuffle = True)"
      ],
      "execution_count": 93,
      "outputs": [
        {
          "output_type": "stream",
          "text": [
            "Using Count Vectorizer\n"
          ],
          "name": "stdout"
        }
      ]
    },
    {
      "cell_type": "code",
      "metadata": {
        "colab": {
          "base_uri": "https://localhost:8080/"
        },
        "id": "tLoe5574vCvv",
        "outputId": "fc862274-39a7-4cdc-bd1f-37017acf00ca"
      },
      "source": [
        "train_cnt = int(80.0 * len(dataset) / 100.0)\n",
        "train_dataset = dataset[ : train_cnt]\n",
        "test_dataset = dataset[train_cnt : ]\n",
        "print('Train size =', len(train_dataset), '\\nTest size =', len(test_dataset))"
      ],
      "execution_count": 94,
      "outputs": [
        {
          "output_type": "stream",
          "text": [
            "Train size = 3564 \n",
            "Test size = 892\n"
          ],
          "name": "stdout"
        }
      ]
    },
    {
      "cell_type": "code",
      "metadata": {
        "id": "jrjRPbVhvHV2"
      },
      "source": [
        "# Hyperparameters\n",
        "batch_size = 200\n",
        "num_iters = 9000\n",
        "input_dim = len(dataset[0][0])\n",
        "output_dim = len(all_genres)\n",
        "learning_rate = 0.001\n",
        "\n",
        "# Device\n",
        "device = torch.device(\"cuda:0\" if torch.cuda.is_available() else \"cpu\")"
      ],
      "execution_count": 95,
      "outputs": []
    },
    {
      "cell_type": "code",
      "metadata": {
        "colab": {
          "base_uri": "https://localhost:8080/"
        },
        "id": "om9rWeSwvJ1-",
        "outputId": "a947db85-52c2-47aa-abd2-e232cc9fdb7c"
      },
      "source": [
        "num_epochs = num_iters / (len(train_dataset) / batch_size)\n",
        "num_epochs = int(num_epochs)\n",
        "\n",
        "train_loader = torch.utils.data.DataLoader(dataset=train_dataset, \n",
        "                                           batch_size=batch_size, \n",
        "                                           shuffle=True)   # It's better to shuffle the whole training dataset! \n",
        "\n",
        "test_loader = torch.utils.data.DataLoader(dataset=test_dataset, \n",
        "                                          batch_size=batch_size, \n",
        "                                          shuffle=False)  \n",
        "print(num_epochs)"
      ],
      "execution_count": 96,
      "outputs": [
        {
          "output_type": "stream",
          "text": [
            "505\n"
          ],
          "name": "stdout"
        }
      ]
    },
    {
      "cell_type": "code",
      "metadata": {
        "id": "B3oBGKclvMnE"
      },
      "source": [
        "class DeepNeuralNetworkModel(nn.Module):\n",
        "  def __init__(self, input_size, num_classes, num_hidden_1, num_hidden_2, num_hidden_3):\n",
        "    super().__init__()\n",
        "    ### 1st hidden layer: 784 --> 100\n",
        "    self.linear_1 = nn.Linear(input_size, num_hidden_1)\n",
        "    ### Non-linearity in 1st hidden layer\n",
        "    self.relu_1 = nn.ReLU6()\n",
        "\n",
        "    ### 2nd hidden layer: 100 --> 100\n",
        "    self.linear_2 = nn.Linear(num_hidden_1, num_hidden_2)\n",
        "    ### Non-linearity in 2nd hidden layer\n",
        "    self.relu_2 = nn.ReLU6()\n",
        "\n",
        "    self.linear_3 = nn.Linear(num_hidden_2, num_hidden_3)\n",
        "    ### Non-linearity in 2nd hidden layer\n",
        "    self.relu_3 = nn.ReLU6()\n",
        "\n",
        "    ### Output layer: 100 --> 10\n",
        "    self.linear_out = nn.Linear(num_hidden_3, num_classes)\n",
        "\n",
        "  def forward(self, x):\n",
        "    ### 1st hidden layer\n",
        "    out  = self.linear_1(x)\n",
        "    ### Non-linearity in 1st hidden layer\n",
        "    out = self.relu_1(out)\n",
        "    \n",
        "    ### 2nd hidden layer\n",
        "    out  = self.linear_2(out)\n",
        "    ### Non-linearity in 2nd hidden layer\n",
        "    out = self.relu_2(out)\n",
        "    \n",
        "    ### 2nd hidden layer\n",
        "    out  = self.linear_3(out)\n",
        "    ### Non-linearity in 2nd hidden layer\n",
        "    out = self.relu_3(out)\n",
        "\n",
        "    # Linear layer (output)\n",
        "    probas  = self.linear_out(out)\n",
        "    return probas"
      ],
      "execution_count": 97,
      "outputs": []
    },
    {
      "cell_type": "code",
      "metadata": {
        "colab": {
          "base_uri": "https://localhost:8080/"
        },
        "id": "Y5Isei6rvQ_f",
        "outputId": "1dbdbf0b-b243-40cb-996b-40f2d812d833"
      },
      "source": [
        "model = DeepNeuralNetworkModel(input_size = input_dim,\n",
        "                               num_classes = output_dim,\n",
        "                               num_hidden_1 = 550, num_hidden_2 = 256, num_hidden_3 = 64)\n",
        "# To enable GPU\n",
        "model.to(device)"
      ],
      "execution_count": 98,
      "outputs": [
        {
          "output_type": "execute_result",
          "data": {
            "text/plain": [
              "DeepNeuralNetworkModel(\n",
              "  (linear_1): Linear(in_features=25769, out_features=550, bias=True)\n",
              "  (relu_1): ReLU6()\n",
              "  (linear_2): Linear(in_features=550, out_features=256, bias=True)\n",
              "  (relu_2): ReLU6()\n",
              "  (linear_3): Linear(in_features=256, out_features=64, bias=True)\n",
              "  (relu_3): ReLU6()\n",
              "  (linear_out): Linear(in_features=64, out_features=19, bias=True)\n",
              ")"
            ]
          },
          "metadata": {
            "tags": []
          },
          "execution_count": 98
        }
      ]
    },
    {
      "cell_type": "code",
      "metadata": {
        "id": "IUzqDZIvvU45"
      },
      "source": [
        "# INSTANTIATE OPTIMIZER CLASS\n",
        "optimizer = torch.optim.Adam(model.parameters(), lr=learning_rate)\n",
        "criterion = nn.CrossEntropyLoss()"
      ],
      "execution_count": 99,
      "outputs": []
    },
    {
      "cell_type": "code",
      "metadata": {
        "colab": {
          "base_uri": "https://localhost:8080/"
        },
        "id": "mRaW8WsqvYdg",
        "outputId": "a642126c-8f86-4e6e-a3ff-ae6b05e5e91d"
      },
      "source": [
        "iteration_loss = []\n",
        "iter = 0\n",
        "for epoch in range(num_epochs):\n",
        "  for i, (plots, labels) in enumerate(train_loader):\n",
        "\n",
        "    plots = plots.view(-1, input_dim).to(device)\n",
        "    labels = labels.to(device)\n",
        "\n",
        "    # Clear gradients w.r.t. parameters\n",
        "    optimizer.zero_grad()\n",
        "\n",
        "    # Forward pass to get output/logits\n",
        "    outputs = model(plots) \n",
        "    \n",
        "    # Calculate Loss: softmax --> cross entropy loss\n",
        "    loss = criterion(outputs, labels)\n",
        "\n",
        "    # Getting gradients w.r.t. parameters\n",
        "    loss.backward()\n",
        "\n",
        "    # Updating parameters\n",
        "    optimizer.step()\n",
        "\n",
        "    iter += 1\n",
        "\n",
        "    if iter % 500 == 0:\n",
        "      # Calculate Accuracy         \n",
        "      correct = 0\n",
        "      total = 0\n",
        "      # Iterate through test dataset\n",
        "      for plots, labels in test_loader:\n",
        "               \n",
        "        plots = plots.view(-1, input_dim).to(device)\n",
        "\n",
        "        # Forward pass only to get logits/output\n",
        "        outputs = model(plots)\n",
        "\n",
        "        # Get predictions from the maximum value\n",
        "        _, predicted = torch.max(outputs, 1)\n",
        "\n",
        "        # Total number of labels\n",
        "        total += labels.size(0)\n",
        "\n",
        "\n",
        "        # Total correct predictions\n",
        "        if torch.cuda.is_available():\n",
        "          correct += (predicted.cpu() == labels.cpu()).sum() \n",
        "          #print('cuda', predicted)\n",
        "        else:\n",
        "          correct += (predicted == labels).sum()\n",
        "          #print('normal', predicted)\n",
        "\n",
        "      accuracy = 100 * correct.item() / total\n",
        "      # Print Loss\n",
        "      iteration_loss.append(loss.item())\n",
        "      print('Iteration: {}. Loss: {}. Accuracy: {}'.format(iter, loss.item(), accuracy))"
      ],
      "execution_count": 100,
      "outputs": [
        {
          "output_type": "stream",
          "text": [
            "Iteration: 500. Loss: 0.00048243903438560665. Accuracy: 44.61883408071749\n",
            "Iteration: 1000. Loss: 0.00013127323472872376. Accuracy: 44.61883408071749\n",
            "Iteration: 1500. Loss: 5.484817666001618e-05. Accuracy: 44.61883408071749\n",
            "Iteration: 2000. Loss: 3.11278818116989e-05. Accuracy: 45.2914798206278\n",
            "Iteration: 2500. Loss: 1.850101580203045e-05. Accuracy: 45.85201793721973\n",
            "Iteration: 3000. Loss: 1.386897565680556e-05. Accuracy: 45.964125560538115\n",
            "Iteration: 3500. Loss: 8.921516382542904e-06. Accuracy: 45.964125560538115\n",
            "Iteration: 4000. Loss: 6.909251624165336e-06. Accuracy: 45.73991031390135\n",
            "Iteration: 4500. Loss: 4.712352165370248e-06. Accuracy: 45.62780269058296\n",
            "Iteration: 5000. Loss: 3.140562967018923e-06. Accuracy: 45.51569506726457\n",
            "Iteration: 5500. Loss: 3.067240413656691e-06. Accuracy: 45.2914798206278\n",
            "Iteration: 6000. Loss: 1.9299939140182687e-06. Accuracy: 45.51569506726457\n",
            "Iteration: 6500. Loss: 1.6754817124819965e-06. Accuracy: 45.51569506726457\n",
            "Iteration: 7000. Loss: 1.4996483059803722e-06. Accuracy: 45.403587443946186\n",
            "Iteration: 7500. Loss: 1.2576523431562237e-06. Accuracy: 45.403587443946186\n",
            "Iteration: 8000. Loss: 8.928763577387144e-07. Accuracy: 45.51569506726457\n",
            "Iteration: 8500. Loss: 5.781641903013224e-07. Accuracy: 45.51569506726457\n",
            "Iteration: 9000. Loss: 6.927207891749276e-07. Accuracy: 45.51569506726457\n"
          ],
          "name": "stdout"
        }
      ]
    },
    {
      "cell_type": "code",
      "metadata": {
        "id": "ThkK_46hwZUh"
      },
      "source": [
        "#settings \n",
        "save_model = True\n",
        "\n",
        "if save_model is True:\n",
        "    # Saves only parameters\n",
        "    # wights & biases\n",
        "    torch.save(model.state_dict(), project_path + 'Count_DEEP_NN_model_final.pkl') "
      ],
      "execution_count": 101,
      "outputs": []
    },
    {
      "cell_type": "code",
      "metadata": {
        "colab": {
          "base_uri": "https://localhost:8080/",
          "height": 318
        },
        "id": "LRMd-e0hvbTu",
        "outputId": "eb33b838-64a6-479a-d442-a60212c342ef"
      },
      "source": [
        "print (iteration_loss)\n",
        "plt.plot(iteration_loss)\n",
        "plt.ylabel('Cross Entropy Loss')\n",
        "plt.xlabel('Iteration (in every 500)')\n",
        "plt.show()"
      ],
      "execution_count": 102,
      "outputs": [
        {
          "output_type": "stream",
          "text": [
            "[0.00048243903438560665, 0.00013127323472872376, 5.484817666001618e-05, 3.11278818116989e-05, 1.850101580203045e-05, 1.386897565680556e-05, 8.921516382542904e-06, 6.909251624165336e-06, 4.712352165370248e-06, 3.140562967018923e-06, 3.067240413656691e-06, 1.9299939140182687e-06, 1.6754817124819965e-06, 1.4996483059803722e-06, 1.2576523431562237e-06, 8.928763577387144e-07, 5.781641903013224e-07, 6.927207891749276e-07]\n"
          ],
          "name": "stdout"
        },
        {
          "output_type": "display_data",
          "data": {
            "image/png": "[encoded data removed]",
            "text/plain": [
              "<Figure size 432x288 with 1 Axes>"
            ]
          },
          "metadata": {
            "tags": [],
            "needs_background": "light"
          }
        }
      ]
    },
    {
      "cell_type": "code",
      "metadata": {
        "id": "tUuXHPEZve5l"
      },
      "source": [
        "def new_prediction(plot):\n",
        "  plot = custom_count_vectorizer.get_tensor(text)\n",
        "  plot = plot.view(-1, input_dim).to(device)\n",
        "  outputs = model(plot)\n",
        "  _, predicted = torch.max(outputs, 1)\n",
        "  return int(predicted)\n",
        "  \n",
        "def new_prediction_by_vector(vector):\n",
        "  plot = vector\n",
        "  plot = plot.view(-1, input_dim).to(device)\n",
        "  outputs = model(plot)\n",
        "  _, predicted = torch.max(outputs, 1)\n",
        "  return int(predicted)"
      ],
      "execution_count": 103,
      "outputs": []
    },
    {
      "cell_type": "code",
      "metadata": {
        "colab": {
          "base_uri": "https://localhost:8080/"
        },
        "id": "uCPPQQDXxFF1",
        "outputId": "a86cc1bc-5f10-41b5-d6be-33db66277ff2"
      },
      "source": [
        "plot = \"John McBut when a bomb goes off in the Bonwit Teller Department Store the police go insane trying to figure out what's going on. Soon, a man named Simon calls and asks for McClane. Simon tells Inspector Walter Cobb that McClane is going to play a game called \\\"Simon Says\\\". He says that McClane is going to do the tasks he assigns him. If not, he'll set off another bomb. With the help of a Harlem electrician, John McClane must race all over New York trying to figure out the frustrating puzzles that the crafty terrorist gives him. But when a bomb goes off in a subway station right by the Federal Reserve things start to get heated.\"\n",
        "prediction=new_prediction(plot)\n",
        "print(prediction,int_to_label[prediction])"
      ],
      "execution_count": 104,
      "outputs": [
        {
          "output_type": "stream",
          "text": [
            "1 action\n"
          ],
          "name": "stdout"
        }
      ]
    },
    {
      "cell_type": "code",
      "metadata": {
        "colab": {
          "base_uri": "https://localhost:8080/"
        },
        "id": "BL9agVWBvh22",
        "outputId": "628c92b6-6ab4-4ef3-fca3-91bd1d1f408a"
      },
      "source": [
        "out_true = []\n",
        "out_pred = []\n",
        "for plot in test_dataset:\n",
        "  pred = new_prediction_by_vector(plot[0])\n",
        "  out_true.append(plot[1])\n",
        "  out_pred.append(pred)\n",
        "\n",
        "cm = confusion_matrix(out_true, out_pred)\n",
        "print(cm)\n",
        "cr = classification_report(out_true, out_pred)\n",
        "print(cr)"
      ],
      "execution_count": 105,
      "outputs": [
        {
          "output_type": "stream",
          "text": [
            "[[ 14  11  11   4   0  11   0   0   0   0   0   1   0   0   0   0   0   0]\n",
            " [  7  95  27   1   0  10   9   0   0   0   0   2   0   0   0   0   0   0]\n",
            " [  4  24 194   3   0  41   4   0   0   0   0   4   0   2   0   0   0   0]\n",
            " [  5   9  17   4   0  15   0   0   1   0   0   0   0   1   0   0   0   0]\n",
            " [  1   7  19   1   4  14   2   0   0   0   0   1   0   0   0   0   0   0]\n",
            " [  1  19  77   1   1  64   5   0   0   1   0   0   0   3   0   0   0   0]\n",
            " [  0  10  23   0   0  12  12   0   0   0   0   0   0   0   0   0   0   0]\n",
            " [  0   2   1   0   0   1   0   0   0   0   0   0   0   1   0   0   0   0]\n",
            " [  0   0   1   0   0   4   0   0   0   0   0   0   0   0   0   0   0   0]\n",
            " [  0   0   3   0   0   1   0   0   0   0   0   0   0   0   0   0   0   0]\n",
            " [  0   1   1   0   0   0   0   0   0   0   0   0   0   0   0   0   0   0]\n",
            " [  0   2  14   0   0   5   0   0   0   0   0  16   0   0   0   0   0   0]\n",
            " [  0   0   0   0   0   1   0   0   0   0   0   0   0   0   0   0   0   0]\n",
            " [  1   7   7   0   0   6   0   0   0   0   0   0   0   2   0   0   0   0]\n",
            " [  0   0   1   0   0   0   0   0   0   0   0   0   0   0   0   0   0   0]\n",
            " [  0   0   2   0   0   1   0   0   0   0   0   0   0   0   0   0   0   0]\n",
            " [  0   0   0   0   0   1   0   0   0   0   0   0   0   0   0   0   0   0]\n",
            " [  0   0   0   0   1   0   0   0   0   0   0   0   0   0   0   0   0   0]]\n",
            "              precision    recall  f1-score   support\n",
            "\n",
            "           0       0.42      0.27      0.33        52\n",
            "           1       0.51      0.63      0.56       151\n",
            "           2       0.49      0.70      0.58       276\n",
            "           3       0.29      0.08      0.12        52\n",
            "           4       0.67      0.08      0.15        49\n",
            "           5       0.34      0.37      0.36       172\n",
            "           6       0.38      0.21      0.27        57\n",
            "           7       0.00      0.00      0.00         5\n",
            "           8       0.00      0.00      0.00         5\n",
            "           9       0.00      0.00      0.00         4\n",
            "          10       0.00      0.00      0.00         2\n",
            "          11       0.67      0.43      0.52        37\n",
            "          12       0.00      0.00      0.00         1\n",
            "          13       0.22      0.09      0.12        23\n",
            "          14       0.00      0.00      0.00         1\n",
            "          15       0.00      0.00      0.00         3\n",
            "          16       0.00      0.00      0.00         1\n",
            "          18       0.00      0.00      0.00         1\n",
            "\n",
            "    accuracy                           0.45       892\n",
            "   macro avg       0.22      0.16      0.17       892\n",
            "weighted avg       0.44      0.45      0.42       892\n",
            "\n"
          ],
          "name": "stdout"
        },
        {
          "output_type": "stream",
          "text": [
            "/usr/local/lib/python3.7/dist-packages/sklearn/metrics/_classification.py:1272: UndefinedMetricWarning: Precision and F-score are ill-defined and being set to 0.0 in labels with no predicted samples. Use `zero_division` parameter to control this behavior.\n",
            "  _warn_prf(average, modifier, msg_start, len(result))\n"
          ],
          "name": "stderr"
        }
      ]
    },
    {
      "cell_type": "markdown",
      "metadata": {
        "id": "_D0JmcnSvo_Z"
      },
      "source": [
        "** Count + Logistic Regression **"
      ]
    },
    {
      "cell_type": "code",
      "metadata": {
        "colab": {
          "base_uri": "https://localhost:8080/"
        },
        "id": "Jqf1T52FvlUC",
        "outputId": "dd37dd8d-7fe5-4275-8e55-0dfca7a80a7d"
      },
      "source": [
        "custom_count_vectorizer = Custom_Count_Vectorizer(corpus=corpus, corpus_label=corpus_label, vectorizer='COUNT')\n",
        "dataset = custom_count_vectorizer.get_dataset(shuffle=True)"
      ],
      "execution_count": 106,
      "outputs": [
        {
          "output_type": "stream",
          "text": [
            "Using Count Vectorizer\n"
          ],
          "name": "stdout"
        }
      ]
    },
    {
      "cell_type": "code",
      "metadata": {
        "colab": {
          "base_uri": "https://localhost:8080/"
        },
        "id": "A035JaoavuF1",
        "outputId": "77a5e544-72c5-4041-88f0-ce77898d47a4"
      },
      "source": [
        "train_cnt = int(80.0 * len(dataset) / 100.0)\n",
        "train_dataset = dataset[ : train_cnt]\n",
        "test_dataset = dataset[train_cnt : ]\n",
        "print('Train size =', len(train_dataset), '\\nTest size =', len(test_dataset))"
      ],
      "execution_count": 107,
      "outputs": [
        {
          "output_type": "stream",
          "text": [
            "Train size = 3564 \n",
            "Test size = 892\n"
          ],
          "name": "stdout"
        }
      ]
    },
    {
      "cell_type": "code",
      "metadata": {
        "id": "U2M1R_xzvxJK"
      },
      "source": [
        "# Hyperparameters\n",
        "batch_size = 200\n",
        "num_iters = 9000\n",
        "input_dim = len(dataset[0][0])\n",
        "output_dim = len(all_genres)\n",
        "learning_rate = 0.001\n",
        "\n",
        "# Device\n",
        "device = torch.device(\"cuda:0\" if torch.cuda.is_available() else \"cpu\")"
      ],
      "execution_count": 108,
      "outputs": []
    },
    {
      "cell_type": "code",
      "metadata": {
        "colab": {
          "base_uri": "https://localhost:8080/"
        },
        "id": "ASL169IIvzhV",
        "outputId": "cbf0d7b9-5853-4e4b-9c05-7364ac96e478"
      },
      "source": [
        "num_epochs = num_iters / (len(train_dataset) / batch_size)\n",
        "num_epochs = int(num_epochs)\n",
        "\n",
        "train_loader = torch.utils.data.DataLoader(dataset=train_dataset, \n",
        "                                           batch_size=batch_size, \n",
        "                                           shuffle=True)   # It's better to shuffle the whole training dataset! \n",
        "\n",
        "test_loader = torch.utils.data.DataLoader(dataset=test_dataset, \n",
        "                                          batch_size=batch_size, \n",
        "                                          shuffle=False)  \n",
        "print(num_epochs)"
      ],
      "execution_count": 109,
      "outputs": [
        {
          "output_type": "stream",
          "text": [
            "505\n"
          ],
          "name": "stdout"
        }
      ]
    },
    {
      "cell_type": "code",
      "metadata": {
        "id": "oFbSQ-Wav2Jj"
      },
      "source": [
        "class LogisticRegressionModel(nn.Module):\n",
        "  def __init__(self, input_size, num_classes):\n",
        "    super().__init__()\n",
        "    self.linear = nn.Linear(input_size, num_classes)\n",
        "\n",
        "  def forward(self, x):\n",
        "    logits  = self.linear(x)\n",
        "    probas = F.softmax(logits, dim=1)\n",
        "    return logits, probas"
      ],
      "execution_count": 110,
      "outputs": []
    },
    {
      "cell_type": "code",
      "metadata": {
        "colab": {
          "base_uri": "https://localhost:8080/"
        },
        "id": "yWPDEoNGv4uj",
        "outputId": "eb3a980c-9f25-49fb-d7e1-050d22f93fd5"
      },
      "source": [
        "'''\n",
        "INSTANTIATE MODEL CLASS\n",
        "'''\n",
        "model = LogisticRegressionModel(input_size=input_dim,\n",
        "                                num_classes=output_dim)\n",
        "# To enable GPU\n",
        "model.to(device)"
      ],
      "execution_count": 111,
      "outputs": [
        {
          "output_type": "execute_result",
          "data": {
            "text/plain": [
              "LogisticRegressionModel(\n",
              "  (linear): Linear(in_features=25769, out_features=19, bias=True)\n",
              ")"
            ]
          },
          "metadata": {
            "tags": []
          },
          "execution_count": 111
        }
      ]
    },
    {
      "cell_type": "code",
      "metadata": {
        "id": "fK7lx0Mjv8PI"
      },
      "source": [
        "# INSTANTIATE OPTIMIZER CLASS\n",
        "optimizer = torch.optim.Adam(model.parameters(), lr=learning_rate)"
      ],
      "execution_count": 112,
      "outputs": []
    },
    {
      "cell_type": "code",
      "metadata": {
        "colab": {
          "base_uri": "https://localhost:8080/"
        },
        "id": "io1gqKMHwAgv",
        "outputId": "f258185b-9336-4fa5-db50-f0f8f3215915"
      },
      "source": [
        "'''\n",
        "TRAIN THE MODEL\n",
        "'''\n",
        "iteration_loss = []\n",
        "iter = 0\n",
        "for epoch in range(num_epochs):\n",
        "  for i, (plots, labels) in enumerate(train_loader):\n",
        "\n",
        "    plots = plots.view(-1, input_dim).to(device)\n",
        "    labels = labels.to(device)\n",
        "\n",
        "    # Clear gradients w.r.t. parameters\n",
        "    optimizer.zero_grad()\n",
        "\n",
        "    # Forward pass to get output/logits\n",
        "    logits, probas = model(plots) \n",
        "\n",
        "    # Calculate Loss: PyTorch implementation of CrossEntropyLoss works with logits, not probabilities\n",
        "    loss = F.cross_entropy(logits, labels)\n",
        "\n",
        "    # Getting gradients w.r.t. parameters\n",
        "    loss.backward()\n",
        "\n",
        "    # Updating parameters\n",
        "    optimizer.step()\n",
        "\n",
        "    iter += 1\n",
        "\n",
        "    if iter % 1000 == 0:\n",
        "      # Calculate Accuracy         \n",
        "      correct = 0\n",
        "      total = 0\n",
        "      # Iterate through test dataset\n",
        "      for plots, labels in test_loader:\n",
        "               \n",
        "        plots = plots.view(-1, input_dim).to(device)\n",
        "\n",
        "        # Forward pass only to get logits/output\n",
        "        logits, probas = model(plots)\n",
        "\n",
        "        # Get predictions from the maximum value\n",
        "        _, predicted = torch.max(probas, 1)\n",
        "\n",
        "        # Total number of labels\n",
        "        total += labels.size(0)\n",
        "\n",
        "\n",
        "        # Total correct predictions\n",
        "        if torch.cuda.is_available():\n",
        "          correct += (predicted.cpu() == labels.cpu()).sum() \n",
        "        else:\n",
        "          correct += (predicted == labels).sum()\n",
        "\n",
        "      accuracy = 100 * correct.item() / total\n",
        "\n",
        "      # Print Loss\n",
        "      iteration_loss.append(loss.item())\n",
        "      print('Iteration: {}. Loss: {}. Accuracy: {}'.format(iter, loss.item(), accuracy))\n",
        "print(\"done training\")"
      ],
      "execution_count": 113,
      "outputs": [
        {
          "output_type": "stream",
          "text": [
            "Iteration: 1000. Loss: 0.1719920039176941. Accuracy: 48.99103139013453\n",
            "Iteration: 2000. Loss: 0.048652954399585724. Accuracy: 48.99103139013453\n",
            "Iteration: 3000. Loss: 0.024653522297739983. Accuracy: 48.20627802690583\n",
            "Iteration: 4000. Loss: 0.01086440309882164. Accuracy: 47.75784753363229\n",
            "Iteration: 5000. Loss: 0.0064383638091385365. Accuracy: 47.53363228699551\n",
            "Iteration: 6000. Loss: 0.0033879175316542387. Accuracy: 47.08520179372197\n",
            "Iteration: 7000. Loss: 0.002337775193154812. Accuracy: 46.860986547085204\n",
            "Iteration: 8000. Loss: 0.0013752158265560865. Accuracy: 46.74887892376682\n",
            "Iteration: 9000. Loss: 0.0009972031693905592. Accuracy: 46.74887892376682\n",
            "done training\n"
          ],
          "name": "stdout"
        }
      ]
    },
    {
      "cell_type": "code",
      "metadata": {
        "id": "ydF0agt3weUf"
      },
      "source": [
        "#settings \n",
        "save_model = True\n",
        "\n",
        "if save_model is True:\n",
        "    # Saves only parameters\n",
        "    # wights & biases\n",
        "    torch.save(model.state_dict(), project_path + 'Count_logistic_regression_final.pkl') "
      ],
      "execution_count": 114,
      "outputs": []
    },
    {
      "cell_type": "code",
      "metadata": {
        "colab": {
          "base_uri": "https://localhost:8080/",
          "height": 316
        },
        "id": "IjlpbwntwD9V",
        "outputId": "8e99e75d-9f3d-4c84-b830-9de29a07f5ee"
      },
      "source": [
        "print (iteration_loss)\n",
        "plt.plot(iteration_loss)\n",
        "plt.ylabel('Cross Entropy Loss')\n",
        "plt.xlabel('Iteration (in every 500)')\n",
        "plt.show()"
      ],
      "execution_count": 115,
      "outputs": [
        {
          "output_type": "stream",
          "text": [
            "[0.1719920039176941, 0.048652954399585724, 0.024653522297739983, 0.01086440309882164, 0.0064383638091385365, 0.0033879175316542387, 0.002337775193154812, 0.0013752158265560865, 0.0009972031693905592]\n"
          ],
          "name": "stdout"
        },
        {
          "output_type": "display_data",
          "data": {
            "image/png": "[encoded data removed]",
            "text/plain": [
              "<Figure size 432x288 with 1 Axes>"
            ]
          },
          "metadata": {
            "tags": [],
            "needs_background": "light"
          }
        }
      ]
    },
    {
      "cell_type": "code",
      "metadata": {
        "id": "z1m6RfrdwHGv"
      },
      "source": [
        "def new_prediction_lg(plot):\n",
        "  plot = custom_count_vectorizer.get_tensor(text)\n",
        "  plots = plot.view(-1, input_dim).to(device)\n",
        "  logits, probas = model(plots)\n",
        "  _, predicted = torch.max(probas, 1)\n",
        "  return int(predicted)\n",
        "  \n",
        "def new_prediction_by_vector_lg(vector):\n",
        "  plot = vector\n",
        "  plot = plot.view(-1, input_dim).to(device)\n",
        "  logits, probas = model(plot)\n",
        "  _, predicted = torch.max(probas, 1)\n",
        "  return int(predicted)"
      ],
      "execution_count": 116,
      "outputs": []
    },
    {
      "cell_type": "code",
      "metadata": {
        "colab": {
          "base_uri": "https://localhost:8080/"
        },
        "id": "T0Bit-tKxIZy",
        "outputId": "b9deea86-3f6b-40a2-c89d-2cabd19e82e9"
      },
      "source": [
        "plot = \"John McBut when a bomb goes off in the Bonwit Teller Department Store the police go insane trying to figure out what's going on. Soon, a man named Simon calls and asks for McClane. Simon tells Inspector Walter Cobb that McClane is going to play a game called \\\"Simon Says\\\". He says that McClane is going to do the tasks he assigns him. If not, he'll set off another bomb. With the help of a Harlem electrician, John McClane must race all over New York trying to figure out the frustrating puzzles that the crafty terrorist gives him. But when a bomb goes off in a subway station right by the Federal Reserve things start to get heated.\"\n",
        "prediction=new_prediction_lg(plot)\n",
        "print(prediction,int_to_label[prediction])"
      ],
      "execution_count": 117,
      "outputs": [
        {
          "output_type": "stream",
          "text": [
            "1 action\n"
          ],
          "name": "stdout"
        }
      ]
    },
    {
      "cell_type": "code",
      "metadata": {
        "colab": {
          "base_uri": "https://localhost:8080/"
        },
        "id": "LcYPX89bwJhQ",
        "outputId": "536f02fb-0f99-4704-aedc-cc64fed9861d"
      },
      "source": [
        "out_true = []\n",
        "out_pred = []\n",
        "for plot in test_dataset:\n",
        "  pred = new_prediction_by_vector_lg(plot[0])\n",
        "  out_true.append(plot[1])\n",
        "  out_pred.append(pred)\n",
        "\n",
        "cm = confusion_matrix(out_true, out_pred)\n",
        "print(cm)\n",
        "cr = classification_report(out_true, out_pred)\n",
        "print(cr)"
      ],
      "execution_count": 118,
      "outputs": [
        {
          "output_type": "stream",
          "text": [
            "[[  8  14  19   5   0   8   0   0   0   0   0   0   0   0   0]\n",
            " [  5 101  24   4   1  19   7   0   0   0   0   2   0   0   0]\n",
            " [  1  11 182   3   1  48   3   0   0   0   0   3   0   0   0]\n",
            " [  3  16  18   1   4  10   1   0   0   0   0   1   0   0   0]\n",
            " [  0   2  11   0   6  19   5   0   0   0   0   2   0   0   0]\n",
            " [  1  11  62   0   2  69   7   0   0   0   0   2   3   0   0]\n",
            " [  0  19  20   0   0  18  17   0   0   0   0   0   0   0   0]\n",
            " [  0   2   1   0   0   1   1   0   0   0   0   0   0   0   0]\n",
            " [  0   0   1   0   0   1   1   0   0   0   0   0   0   0   0]\n",
            " [  0   0   0   0   0   1   0   0   0   0   0   0   0   0   0]\n",
            " [  0   0   1   0   0   0   1   0   0   0   0   0   0   0   0]\n",
            " [  0   1  16   0   0   5   0   0   0   0   0  27   0   0   0]\n",
            " [  0   6   8   0   0  10   1   0   0   0   0   0   5   0   0]\n",
            " [  0   0   2   0   0   0   0   0   0   0   0   0   0   0   0]\n",
            " [  0   0   0   1   0   0   0   0   0   0   0   0   0   0   0]]\n",
            "              precision    recall  f1-score   support\n",
            "\n",
            "           0       0.44      0.15      0.22        54\n",
            "           1       0.55      0.62      0.58       163\n",
            "           2       0.50      0.72      0.59       252\n",
            "           3       0.07      0.02      0.03        54\n",
            "           4       0.43      0.13      0.20        45\n",
            "           5       0.33      0.44      0.38       157\n",
            "           6       0.39      0.23      0.29        74\n",
            "           7       0.00      0.00      0.00         5\n",
            "           8       0.00      0.00      0.00         3\n",
            "           9       0.00      0.00      0.00         1\n",
            "          10       0.00      0.00      0.00         2\n",
            "          11       0.73      0.55      0.63        49\n",
            "          13       0.62      0.17      0.26        30\n",
            "          14       0.00      0.00      0.00         2\n",
            "          15       0.00      0.00      0.00         1\n",
            "\n",
            "    accuracy                           0.47       892\n",
            "   macro avg       0.27      0.20      0.21       892\n",
            "weighted avg       0.45      0.47      0.43       892\n",
            "\n"
          ],
          "name": "stdout"
        },
        {
          "output_type": "stream",
          "text": [
            "/usr/local/lib/python3.7/dist-packages/sklearn/metrics/_classification.py:1272: UndefinedMetricWarning: Precision and F-score are ill-defined and being set to 0.0 in labels with no predicted samples. Use `zero_division` parameter to control this behavior.\n",
            "  _warn_prf(average, modifier, msg_start, len(result))\n"
          ],
          "name": "stderr"
        }
      ]
    },
    {
      "cell_type": "code",
      "metadata": {
        "id": "DvYMRLkQwMp0"
      },
      "source": [
        ""
      ],
      "execution_count": 118,
      "outputs": []
    }
  ]
}